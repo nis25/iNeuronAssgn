{
 "cells": [
  {
   "cell_type": "markdown",
   "id": "5191fdf9",
   "metadata": {},
   "source": [
    "## Assignment 6 ##"
   ]
  },
  {
   "cell_type": "markdown",
   "id": "80d68cd0",
   "metadata": {},
   "source": [
    "<b>1. What are escape characters, and how do you use them?</b>"
   ]
  },
  {
   "cell_type": "markdown",
   "id": "421bc5f1",
   "metadata": {},
   "source": [
    "Escape character are used to insert something which is illegal in string./ isexample of escape character."
   ]
  },
  {
   "cell_type": "markdown",
   "id": "e68f18e1",
   "metadata": {},
   "source": [
    "<b> 2. What do the escape characters n and t stand for?</b>"
   ]
  },
  {
   "cell_type": "markdown",
   "id": "4d76b486",
   "metadata": {},
   "source": [
    "/n is for new line and /t is for tab"
   ]
  },
  {
   "cell_type": "markdown",
   "id": "509f134b",
   "metadata": {},
   "source": [
    "<b> 3. What is the way to include backslash characters in a string?</b>"
   ]
  },
  {
   "cell_type": "markdown",
   "id": "c1938120",
   "metadata": {},
   "source": [
    " This \"\\\\\" escape character will represent  backslash characters in string."
   ]
  },
  {
   "cell_type": "markdown",
   "id": "0ebf9f86",
   "metadata": {},
   "source": [
    "<b>4. The string \"Howl's Moving Castle\" is a correct value. Why isn't the single quote character in the word Howl's not escaped a problem?</b>"
   ]
  },
  {
   "cell_type": "markdown",
   "id": "8585c25c",
   "metadata": {},
   "source": [
    "It is fine because we have used \" \"(double quote) to mark the beginning and end of the sentence."
   ]
  },
  {
   "cell_type": "markdown",
   "id": "8675e444",
   "metadata": {},
   "source": [
    "<b>5. How do you write a string of newlines if you don't want to use the n character?</b>"
   ]
  },
  {
   "cell_type": "markdown",
   "id": "8040b84c",
   "metadata": {},
   "source": [
    "We can use \"\"\" \"\"\" to write a string in multiple lines. e.g. \"\"\" This   \n",
    "is   \n",
    "new  \n",
    "line\"\"\""
   ]
  },
  {
   "cell_type": "markdown",
   "id": "cc47856d",
   "metadata": {},
   "source": [
    "<b> 6. What are the values of the given expressions?  \n",
    "'Hello, world!'[1]  \n",
    "'Hello, world!'[0:5]  \n",
    "'Hello, world!'[:5]  \n",
    "'Hello, world!'[3:]  </b>\n"
   ]
  },
  {
   "cell_type": "code",
   "execution_count": 5,
   "id": "85bfcf08",
   "metadata": {},
   "outputs": [
    {
     "data": {
      "text/plain": [
       "'e'"
      ]
     },
     "execution_count": 5,
     "metadata": {},
     "output_type": "execute_result"
    }
   ],
   "source": [
    "'Hello, world!'[1]"
   ]
  },
  {
   "cell_type": "code",
   "execution_count": 6,
   "id": "5dccd377",
   "metadata": {},
   "outputs": [
    {
     "data": {
      "text/plain": [
       "'Hello'"
      ]
     },
     "execution_count": 6,
     "metadata": {},
     "output_type": "execute_result"
    }
   ],
   "source": [
    "'Hello, world!'[0:5]"
   ]
  },
  {
   "cell_type": "code",
   "execution_count": 7,
   "id": "7c08e41d",
   "metadata": {},
   "outputs": [
    {
     "data": {
      "text/plain": [
       "'Hello'"
      ]
     },
     "execution_count": 7,
     "metadata": {},
     "output_type": "execute_result"
    }
   ],
   "source": [
    "'Hello, world!'[:5]"
   ]
  },
  {
   "cell_type": "code",
   "execution_count": 9,
   "id": "a75ac385",
   "metadata": {},
   "outputs": [
    {
     "data": {
      "text/plain": [
       "'lo, world!'"
      ]
     },
     "execution_count": 9,
     "metadata": {},
     "output_type": "execute_result"
    }
   ],
   "source": [
    "'Hello, world!'[3:]"
   ]
  },
  {
   "cell_type": "markdown",
   "id": "a2fd2800",
   "metadata": {},
   "source": [
    "<b>7. What are the values of the following expressions?  \n",
    "'Hello'.upper()  \n",
    "'Hello'.upper().isupper()  \n",
    "'Hello'.upper().lower()  \n",
    "</b>\n"
   ]
  },
  {
   "cell_type": "code",
   "execution_count": 10,
   "id": "ea9fdb57",
   "metadata": {},
   "outputs": [
    {
     "data": {
      "text/plain": [
       "'HELLO'"
      ]
     },
     "execution_count": 10,
     "metadata": {},
     "output_type": "execute_result"
    }
   ],
   "source": [
    "'Hello'.upper()"
   ]
  },
  {
   "cell_type": "code",
   "execution_count": 11,
   "id": "e1879417",
   "metadata": {},
   "outputs": [
    {
     "data": {
      "text/plain": [
       "True"
      ]
     },
     "execution_count": 11,
     "metadata": {},
     "output_type": "execute_result"
    }
   ],
   "source": [
    "'Hello'.upper().isupper()"
   ]
  },
  {
   "cell_type": "code",
   "execution_count": 12,
   "id": "eecd5927",
   "metadata": {},
   "outputs": [
    {
     "data": {
      "text/plain": [
       "'hello'"
      ]
     },
     "execution_count": 12,
     "metadata": {},
     "output_type": "execute_result"
    }
   ],
   "source": [
    "'Hello'.upper().lower()"
   ]
  },
  {
   "cell_type": "markdown",
   "id": "e6c33a64",
   "metadata": {},
   "source": [
    "<b>8. What are the values of the following expressions?  \n",
    "'Remember, remember, the fifth of July.'.split()  \n",
    "'-'.join('There can only one.'.split())  \n",
    "</b>\n"
   ]
  },
  {
   "cell_type": "code",
   "execution_count": 15,
   "id": "768be7b9",
   "metadata": {},
   "outputs": [
    {
     "data": {
      "text/plain": [
       "['Remember,', 'remember,', 'the', 'fifth', 'of', 'July.']"
      ]
     },
     "execution_count": 15,
     "metadata": {},
     "output_type": "execute_result"
    }
   ],
   "source": [
    "'Remember, remember, the fifth of July.'.split()\n"
   ]
  },
  {
   "cell_type": "code",
   "execution_count": 16,
   "id": "8eddd420",
   "metadata": {},
   "outputs": [
    {
     "data": {
      "text/plain": [
       "'There-can-only-one.'"
      ]
     },
     "execution_count": 16,
     "metadata": {},
     "output_type": "execute_result"
    }
   ],
   "source": [
    "'-'.join('There can only one.'.split())"
   ]
  },
  {
   "cell_type": "markdown",
   "id": "1104b70f",
   "metadata": {},
   "source": [
    "<b>9. What are the methods for right-justifying, left-justifying, and centering a string?</b>"
   ]
  },
  {
   "cell_type": "markdown",
   "id": "ea175a8b",
   "metadata": {},
   "source": [
    "Methods forright-justifying, left-justifying, and centering a string are rjust(),ljust() and center()respectively."
   ]
  },
  {
   "cell_type": "markdown",
   "id": "cab07bf9",
   "metadata": {},
   "source": [
    "<b> 10. What is the best way to remove whitespace characters from the start or end?</b>"
   ]
  },
  {
   "cell_type": "markdown",
   "id": "abfe83e8",
   "metadata": {},
   "source": [
    "Best way to remove whitespace is lstrip() and rstrip() from the  left and right end of the string."
   ]
  },
  {
   "cell_type": "code",
   "execution_count": null,
   "id": "c47df282",
   "metadata": {},
   "outputs": [],
   "source": []
  }
 ],
 "metadata": {
  "kernelspec": {
   "display_name": "Python 3 (ipykernel)",
   "language": "python",
   "name": "python3"
  },
  "language_info": {
   "codemirror_mode": {
    "name": "ipython",
    "version": 3
   },
   "file_extension": ".py",
   "mimetype": "text/x-python",
   "name": "python",
   "nbconvert_exporter": "python",
   "pygments_lexer": "ipython3",
   "version": "3.9.12"
  }
 },
 "nbformat": 4,
 "nbformat_minor": 5
}
