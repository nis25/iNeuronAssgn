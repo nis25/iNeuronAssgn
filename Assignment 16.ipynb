{
 "cells": [
  {
   "cell_type": "markdown",
   "id": "fa8efd14",
   "metadata": {},
   "source": [
    "## Assignment 16 "
   ]
  },
  {
   "cell_type": "markdown",
   "id": "13e37afd",
   "metadata": {},
   "source": [
    "<b> 1. Create a list called years_list, starting with the year of your birth, and each year thereafter until\n",
    "the year of your fifth birthday. For example, if you were born in 1980. the list would be years_list =\n",
    "[1980, 1981, 1982, 1983, 1984, 1985].</b>"
   ]
  },
  {
   "cell_type": "code",
   "execution_count": 3,
   "id": "fd064034",
   "metadata": {},
   "outputs": [],
   "source": [
    "years_list = [1999,2000,2001,2002,2003,2004]"
   ]
  },
  {
   "cell_type": "markdown",
   "id": "1c186e7c",
   "metadata": {},
   "source": [
    "<b>2. In which year in years_list was your third birthday? Remember, you were 0 years of age for your\n",
    "first year. </b>"
   ]
  },
  {
   "cell_type": "code",
   "execution_count": 4,
   "id": "d8ed63b0",
   "metadata": {},
   "outputs": [
    {
     "data": {
      "text/plain": [
       "2001"
      ]
     },
     "execution_count": 4,
     "metadata": {},
     "output_type": "execute_result"
    }
   ],
   "source": [
    "years_list [2]"
   ]
  },
  {
   "cell_type": "markdown",
   "id": "9af8dcbe",
   "metadata": {},
   "source": [
    "<b> 3.In the years list, which year were you the oldest? </b>"
   ]
  },
  {
   "cell_type": "code",
   "execution_count": 8,
   "id": "fccdad2b",
   "metadata": {},
   "outputs": [
    {
     "data": {
      "text/plain": [
       "2004"
      ]
     },
     "execution_count": 8,
     "metadata": {},
     "output_type": "execute_result"
    }
   ],
   "source": [
    "reverse_y = years_list [::-1]\n",
    "reverse_y[0]\n"
   ]
  },
  {
   "cell_type": "markdown",
   "id": "d7ae8616",
   "metadata": {},
   "source": [
    "<b> 4. Make a list called things with these three strings as elements: &quot;mozzarella&quot;, &quot;cinderella&quot;,\n",
    "&quot;salmonella&quot;</b>"
   ]
  },
  {
   "cell_type": "code",
   "execution_count": 9,
   "id": "21bbd0bf",
   "metadata": {},
   "outputs": [],
   "source": [
    "things = [\"mozzarella\", \"cinderella\", \"salmonella\"]"
   ]
  },
  {
   "cell_type": "markdown",
   "id": "525ce09d",
   "metadata": {},
   "source": [
    "<b> 5. Capitalize the element in things that refers to a person and then print the list. Did it change the\n",
    "element in the list? </b> "
   ]
  },
  {
   "cell_type": "code",
   "execution_count": 21,
   "id": "39523ef4",
   "metadata": {},
   "outputs": [
    {
     "data": {
      "text/plain": [
       "['mozzarella', 'cinderella', 'salmonella']"
      ]
     },
     "execution_count": 21,
     "metadata": {},
     "output_type": "execute_result"
    }
   ],
   "source": [
    "things[1].capitalize()\n",
    "things\n",
    "###\n",
    "t = things[1].capitalize()\n",
    "t\n",
    "things\n"
   ]
  },
  {
   "cell_type": "markdown",
   "id": "5c69780a",
   "metadata": {},
   "source": [
    "No,it didn't change in order to get the capitalize term we need to assign it to a variable "
   ]
  },
  {
   "cell_type": "markdown",
   "id": "4ee1f99f",
   "metadata": {},
   "source": [
    "<b> 6. Make a surprise list with the elements &quot;Groucho,&quot; &quot;Chico,&quot; and &quot;Harpo.&quot;</b>"
   ]
  },
  {
   "cell_type": "code",
   "execution_count": 17,
   "id": "bfcdb266",
   "metadata": {},
   "outputs": [],
   "source": [
    "surprise = [\"Groucho\" ,\"Chico\",  \"Harpo\"]"
   ]
  },
  {
   "cell_type": "markdown",
   "id": "5fe838b0",
   "metadata": {},
   "source": [
    "<b> 7. Lowercase the last element of the surprise list, reverse it, and then capitalize it.</b>"
   ]
  },
  {
   "cell_type": "code",
   "execution_count": 27,
   "id": "f3fcac50",
   "metadata": {},
   "outputs": [
    {
     "data": {
      "text/plain": [
       "'Oprah'"
      ]
     },
     "execution_count": 27,
     "metadata": {},
     "output_type": "execute_result"
    }
   ],
   "source": [
    "s=surprise[-1].lower()\n",
    "s\n",
    "s=s[::-1]\n",
    "s\n",
    "s.capitalize()\n"
   ]
  },
  {
   "cell_type": "markdown",
   "id": "6788d7bb",
   "metadata": {},
   "source": [
    "<b>8. Make an English-to-French dictionary called e2f and print it. Here are your starter words: dog is\n",
    "chien, cat is chat, and walrus is morse.</b>"
   ]
  },
  {
   "cell_type": "code",
   "execution_count": 28,
   "id": "638ad018",
   "metadata": {},
   "outputs": [
    {
     "data": {
      "text/plain": [
       "{'dog': 'chien', 'cat': 'chat', 'walrus': 'morse'}"
      ]
     },
     "execution_count": 28,
     "metadata": {},
     "output_type": "execute_result"
    }
   ],
   "source": [
    "e2f = {'dog':'chien', 'cat':'chat','walrus':'morse'}\n",
    "e2f"
   ]
  },
  {
   "cell_type": "markdown",
   "id": "9b17a6c6",
   "metadata": {},
   "source": [
    "<b> 9. Write the French word for walrus in your three-word dictionary e2f.</b>"
   ]
  },
  {
   "cell_type": "code",
   "execution_count": 31,
   "id": "d44098dc",
   "metadata": {},
   "outputs": [
    {
     "data": {
      "text/plain": [
       "'morse'"
      ]
     },
     "execution_count": 31,
     "metadata": {},
     "output_type": "execute_result"
    }
   ],
   "source": [
    "e2f['walrus']"
   ]
  },
  {
   "cell_type": "markdown",
   "id": "e92255bc",
   "metadata": {},
   "source": [
    "<b> 10. Make a French-to-English dictionary called f2e from e2f. Use the items method.</b>"
   ]
  },
  {
   "cell_type": "code",
   "execution_count": 33,
   "id": "0b534315",
   "metadata": {},
   "outputs": [
    {
     "data": {
      "text/plain": [
       "{'chien': 'dog', 'chat': 'cat', 'morse': 'walrus'}"
      ]
     },
     "execution_count": 33,
     "metadata": {},
     "output_type": "execute_result"
    }
   ],
   "source": [
    "f2e ={}\n",
    "for e,f in e2f.items():\n",
    "    f2e[f] = e\n",
    "f2e\n"
   ]
  },
  {
   "cell_type": "markdown",
   "id": "1bd31f0b",
   "metadata": {},
   "source": [
    "<b> 11. Print the English version of the French word chien using f2e.</b>"
   ]
  },
  {
   "cell_type": "code",
   "execution_count": 34,
   "id": "3861349c",
   "metadata": {},
   "outputs": [
    {
     "data": {
      "text/plain": [
       "'dog'"
      ]
     },
     "execution_count": 34,
     "metadata": {},
     "output_type": "execute_result"
    }
   ],
   "source": [
    "f2e['chien']"
   ]
  },
  {
   "cell_type": "markdown",
   "id": "720b90db",
   "metadata": {},
   "source": [
    "<b> 12. Make and print a set of English words from the keys in e2f.</b>"
   ]
  },
  {
   "cell_type": "code",
   "execution_count": 35,
   "id": "f183b068",
   "metadata": {},
   "outputs": [
    {
     "data": {
      "text/plain": [
       "{'cat', 'dog', 'walrus'}"
      ]
     },
     "execution_count": 35,
     "metadata": {},
     "output_type": "execute_result"
    }
   ],
   "source": [
    "set(e2f.keys())"
   ]
  },
  {
   "cell_type": "markdown",
   "id": "877724eb",
   "metadata": {},
   "source": [
    "<b> 13. Make a multilevel dictionary called life. Use these strings for the topmost keys: &#39;animals&#39;, &#39;plants&#39;,\n",
    "and &#39;other&#39;. Make the &#39;animals&#39; key refer to another dictionary with the keys &#39;cats&#39;, &#39;octopi&#39;, and\n",
    "&#39;emus&#39;. Make the &#39;cats&#39; key refer to a list of strings with the values &#39;Henri&#39;, &#39;Grumpy&#39;, and &#39;Lucy&#39;.\n",
    "Make all the other keys refer to empty dictionaries.</b>"
   ]
  },
  {
   "cell_type": "code",
   "execution_count": 39,
   "id": "17d8910c",
   "metadata": {},
   "outputs": [
    {
     "data": {
      "text/plain": [
       "{'animal': {'cats': ['Henri', 'Grumpy', 'Lucy'], 'octopi': {}, 'emus': {}},\n",
       " 'plants': {},\n",
       " 'others': {}}"
      ]
     },
     "execution_count": 39,
     "metadata": {},
     "output_type": "execute_result"
    }
   ],
   "source": [
    "life = {'animal':{\n",
    "    'cats':['Henri','Grumpy','Lucy'],\n",
    "    'octopi':{},\n",
    "    'emus':{}\n",
    "},\n",
    "'plants':{},\n",
    "'others':{}}\n",
    "life\n"
   ]
  },
  {
   "cell_type": "markdown",
   "id": "c0c63854",
   "metadata": {},
   "source": [
    "<b> 14. Print the top-level keys of life.</b>"
   ]
  },
  {
   "cell_type": "code",
   "execution_count": 40,
   "id": "f45c05cb",
   "metadata": {},
   "outputs": [
    {
     "data": {
      "text/plain": [
       "dict_keys(['animal', 'plants', 'others'])"
      ]
     },
     "execution_count": 40,
     "metadata": {},
     "output_type": "execute_result"
    }
   ],
   "source": [
    "life.keys()"
   ]
  },
  {
   "cell_type": "markdown",
   "id": "b32863e8",
   "metadata": {},
   "source": [
    "<b> 15. Print the keys for life[&#39;animals&#39;].</b>"
   ]
  },
  {
   "cell_type": "code",
   "execution_count": 42,
   "id": "2e22688a",
   "metadata": {},
   "outputs": [
    {
     "data": {
      "text/plain": [
       "dict_keys(['cats', 'octopi', 'emus'])"
      ]
     },
     "execution_count": 42,
     "metadata": {},
     "output_type": "execute_result"
    }
   ],
   "source": [
    "life['animal'].keys()"
   ]
  },
  {
   "cell_type": "markdown",
   "id": "2301e109",
   "metadata": {},
   "source": [
    "<b> 16. Print the values for life[&#39;animals&#39;][&#39;cats&#39;] </b>"
   ]
  },
  {
   "cell_type": "code",
   "execution_count": 44,
   "id": "0b120391",
   "metadata": {},
   "outputs": [
    {
     "data": {
      "text/plain": [
       "['Henri', 'Grumpy', 'Lucy']"
      ]
     },
     "execution_count": 44,
     "metadata": {},
     "output_type": "execute_result"
    }
   ],
   "source": [
    "life['animal']['cats']"
   ]
  },
  {
   "cell_type": "code",
   "execution_count": null,
   "id": "4b319a2e",
   "metadata": {},
   "outputs": [],
   "source": []
  }
 ],
 "metadata": {
  "kernelspec": {
   "display_name": "Python 3 (ipykernel)",
   "language": "python",
   "name": "python3"
  },
  "language_info": {
   "codemirror_mode": {
    "name": "ipython",
    "version": 3
   },
   "file_extension": ".py",
   "mimetype": "text/x-python",
   "name": "python",
   "nbconvert_exporter": "python",
   "pygments_lexer": "ipython3",
   "version": "3.9.12"
  }
 },
 "nbformat": 4,
 "nbformat_minor": 5
}
