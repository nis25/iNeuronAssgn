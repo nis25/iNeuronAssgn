{
 "cells": [
  {
   "cell_type": "markdown",
   "id": "085cfad5",
   "metadata": {},
   "source": [
    "## Assignment 8"
   ]
  },
  {
   "cell_type": "markdown",
   "id": "8b19dab9",
   "metadata": {},
   "source": [
    "<b>1. Is the Python Standard Library included with PyInputPlus?\n",
    " </b>"
   ]
  },
  {
   "cell_type": "markdown",
   "id": "ae8fa41c",
   "metadata": {},
   "source": [
    "No,it's third party"
   ]
  },
  {
   "cell_type": "markdown",
   "id": "065450d6",
   "metadata": {},
   "source": [
    "<b>2. Why is PyInputPlus commonly imported with import pyinputplus as pypi? </b>"
   ]
  },
  {
   "cell_type": "markdown",
   "id": "d29a03a4",
   "metadata": {},
   "source": [
    "to make it shorter to type and to avoid making mistake when in rush "
   ]
  },
  {
   "cell_type": "markdown",
   "id": "a4782684",
   "metadata": {},
   "source": [
    "<b>3. How do you distinguish between inputInt() and inputFloat()?</b>"
   ]
  },
  {
   "cell_type": "markdown",
   "id": "f6f892a0",
   "metadata": {},
   "source": [
    "inputInt() returns the integer value whereas inputFloat() returns float type of value."
   ]
  },
  {
   "cell_type": "markdown",
   "id": "4eb4189c",
   "metadata": {},
   "source": [
    "<b>4. Using PyInputPlus, how do you ensure that the user enters a whole number between 0 and 99?</b>"
   ]
  },
  {
   "cell_type": "markdown",
   "id": "cb2af452",
   "metadata": {},
   "source": [
    "pyip.inputint(min=0, max=99)"
   ]
  },
  {
   "cell_type": "markdown",
   "id": "6c94595e",
   "metadata": {},
   "source": [
    "<b>5. What is transferred to the keyword arguments allowRegexes and blockRegexes?</b>"
   ]
  },
  {
   "cell_type": "markdown",
   "id": "8e327020",
   "metadata": {},
   "source": [
    "A list of regex strings that are either explicitly allowed or denied\n",
    "\n"
   ]
  },
  {
   "cell_type": "markdown",
   "id": "7de2c4bf",
   "metadata": {},
   "source": [
    "<b>6. If a blank input is entered three times, what does inputStr(limit=3) do?</b>\n"
   ]
  },
  {
   "cell_type": "markdown",
   "id": "7f253dbc",
   "metadata": {},
   "source": [
    "The function will raise RetryLimitException."
   ]
  },
  {
   "cell_type": "markdown",
   "id": "db716aa3",
   "metadata": {},
   "source": [
    "<b>7. If blank input is entered three times, what does inputStr(limit=3, default=&#39;hello&#39;) do?</b>"
   ]
  },
  {
   "cell_type": "markdown",
   "id": "2628d5c9",
   "metadata": {},
   "source": [
    "The function returns the value 'hello'."
   ]
  },
  {
   "cell_type": "code",
   "execution_count": null,
   "id": "bb6384ef",
   "metadata": {},
   "outputs": [],
   "source": []
  }
 ],
 "metadata": {
  "kernelspec": {
   "display_name": "Python 3 (ipykernel)",
   "language": "python",
   "name": "python3"
  },
  "language_info": {
   "codemirror_mode": {
    "name": "ipython",
    "version": 3
   },
   "file_extension": ".py",
   "mimetype": "text/x-python",
   "name": "python",
   "nbconvert_exporter": "python",
   "pygments_lexer": "ipython3",
   "version": "3.9.12"
  }
 },
 "nbformat": 4,
 "nbformat_minor": 5
}
