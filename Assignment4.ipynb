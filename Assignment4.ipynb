{
 "cells": [
  {
   "cell_type": "markdown",
   "id": "3a555ccc",
   "metadata": {},
   "source": [
    "## Assignment 4"
   ]
  },
  {
   "cell_type": "markdown",
   "id": "e27554a4",
   "metadata": {},
   "source": [
    "<b>1. What exactly is []?</b>"
   ]
  },
  {
   "cell_type": "markdown",
   "id": "371f7922",
   "metadata": {},
   "source": [
    "[] means it is empty list"
   ]
  },
  {
   "cell_type": "markdown",
   "id": "74c9c5f9",
   "metadata": {},
   "source": [
    "<b>2. In a list of values stored in a variable called spam, how would you assign the value &#39;hello&#39; as the\n",
    "third value? (Assume [2, 4, 6, 8, 10] are in spam.)  Let&#39;s pretend the spam includes the list [&#39;a&#39;, &#39;b&#39;, &#39;c&#39;, &#39;d&#39;] for the next three queries. </b>"
   ]
  },
  {
   "cell_type": "code",
   "execution_count": 11,
   "id": "9963dabb",
   "metadata": {},
   "outputs": [
    {
     "name": "stdout",
     "output_type": "stream",
     "text": [
      "[2, 4, 'hello', 8, 10]\n"
     ]
    }
   ],
   "source": [
    "spam = [2, 4, 6, 8, 10]\n",
    "spam[2]=\"hello\"\n",
    "print(spam)"
   ]
  },
  {
   "cell_type": "markdown",
   "id": "96247665",
   "metadata": {},
   "source": [
    "<b>3. What is the value of spam[int(int(&#39;3&#39; * 2) / 11)]?</b>"
   ]
  },
  {
   "cell_type": "code",
   "execution_count": 7,
   "id": "6680e3e8",
   "metadata": {},
   "outputs": [
    {
     "name": "stdout",
     "output_type": "stream",
     "text": [
      "d\n"
     ]
    }
   ],
   "source": [
    "spam = ['a', 'b', 'c', 'd']\n",
    "spam=spam[int(int('3' * 2) / 11)]\n",
    "print(spam)"
   ]
  },
  {
   "cell_type": "markdown",
   "id": "92fc457b",
   "metadata": {},
   "source": [
    "<b>4. What is the value of spam[-1]?</b>"
   ]
  },
  {
   "cell_type": "code",
   "execution_count": 8,
   "id": "b826d591",
   "metadata": {},
   "outputs": [
    {
     "name": "stdout",
     "output_type": "stream",
     "text": [
      "d\n"
     ]
    }
   ],
   "source": [
    "spam = ['a', 'b', 'c', 'd']\n",
    "l=spam[-1]\n",
    "print(l)"
   ]
  },
  {
   "cell_type": "markdown",
   "id": "146acc20",
   "metadata": {},
   "source": [
    "<b>5. What is the value of spam[:2]?</b>"
   ]
  },
  {
   "cell_type": "code",
   "execution_count": 10,
   "id": "c69955c9",
   "metadata": {},
   "outputs": [
    {
     "name": "stdout",
     "output_type": "stream",
     "text": [
      "['a', 'b']\n"
     ]
    }
   ],
   "source": [
    "f=spam[:2]\n",
    "print(f)"
   ]
  },
  {
   "cell_type": "markdown",
   "id": "082744e3",
   "metadata": {},
   "source": [
    "<b> 6.What is the value of bacon.index(&#39;cat&#39;)?</b>"
   ]
  },
  {
   "cell_type": "code",
   "execution_count": 14,
   "id": "60fe4b52",
   "metadata": {},
   "outputs": [
    {
     "data": {
      "text/plain": [
       "1"
      ]
     },
     "execution_count": 14,
     "metadata": {},
     "output_type": "execute_result"
    }
   ],
   "source": [
    "bacon = [3.14,'cat',11,'cat',True]\n",
    "bacon.index('cat')"
   ]
  },
  {
   "cell_type": "markdown",
   "id": "82ff16da",
   "metadata": {},
   "source": [
    "<b>7. How does bacon.append(99) change the look of the list value in bacon?</b>"
   ]
  },
  {
   "cell_type": "code",
   "execution_count": 15,
   "id": "01f7315c",
   "metadata": {},
   "outputs": [
    {
     "name": "stdout",
     "output_type": "stream",
     "text": [
      "[3.14, 'cat', 11, 'cat', True, 99]\n"
     ]
    }
   ],
   "source": [
    "bacon.append(99)\n",
    "print(bacon)"
   ]
  },
  {
   "cell_type": "markdown",
   "id": "bbe9e946",
   "metadata": {},
   "source": [
    "<b>8. How does bacon.remove('cat') change the look of the list in bacon?</b>"
   ]
  },
  {
   "cell_type": "code",
   "execution_count": 16,
   "id": "be6e4af0",
   "metadata": {},
   "outputs": [
    {
     "data": {
      "text/plain": [
       "[3.14, 11, 'cat', True, 99]"
      ]
     },
     "execution_count": 16,
     "metadata": {},
     "output_type": "execute_result"
    }
   ],
   "source": [
    "bacon.remove('cat')\n",
    "bacon"
   ]
  },
  {
   "cell_type": "markdown",
   "id": "7a85a35c",
   "metadata": {},
   "source": [
    "<b>9. What are the list concatenation and list replication operators? </b>"
   ]
  },
  {
   "cell_type": "markdown",
   "id": "207ab5a3",
   "metadata": {},
   "source": [
    "list concatation is done using \"+\" and list replication is done using \"*\""
   ]
  },
  {
   "cell_type": "markdown",
   "id": "8ba936b4",
   "metadata": {},
   "source": [
    "<b> 10. What is difference between the list methods append() and insert()?</b>"
   ]
  },
  {
   "cell_type": "markdown",
   "id": "45f2057b",
   "metadata": {},
   "source": [
    "insert add values anywhere in the list whereas append add value at the end of the list."
   ]
  },
  {
   "cell_type": "markdown",
   "id": "30641a7c",
   "metadata": {},
   "source": [
    "<b>11. What are the two methods for removing items from a list?</b>"
   ]
  },
  {
   "cell_type": "markdown",
   "id": "d04caee7",
   "metadata": {},
   "source": [
    "del and  remove() are two ways to remove items from a list."
   ]
  },
  {
   "cell_type": "markdown",
   "id": "f20e645e",
   "metadata": {},
   "source": [
    "<b>12. Describe how list values and string values are identical.</b>"
   ]
  },
  {
   "cell_type": "markdown",
   "id": "7b4c7752",
   "metadata": {},
   "source": [
    "List and string can be sliced and indexes , both can be concated and replicated using operators ,both can be used in for loop , both can use len() operator , both can use in and not in operator."
   ]
  },
  {
   "cell_type": "markdown",
   "id": "5b11c20e",
   "metadata": {},
   "source": [
    "<b> 13. What&#39;s the difference between tuples and lists?</b>"
   ]
  },
  {
   "cell_type": "markdown",
   "id": "17d6caea",
   "metadata": {},
   "source": [
    "List is mutable whereas tuples are immutable.  \n",
    "Tuples are represented using () paranthesis whereas List is represented using [] paranthesis."
   ]
  },
  {
   "cell_type": "markdown",
   "id": "9bb2434d",
   "metadata": {},
   "source": [
    "<b>14. How do you type a tuple value that only contains the integer 42?</b>"
   ]
  },
  {
   "cell_type": "code",
   "execution_count": 18,
   "id": "514072c5",
   "metadata": {},
   "outputs": [],
   "source": [
    "tup = (42,)"
   ]
  },
  {
   "cell_type": "markdown",
   "id": "f3286682",
   "metadata": {},
   "source": [
    "<b>15. How do you get a list value&#39;s tuple form? How do you get a tuple value&#39;s list form?</b>\n"
   ]
  },
  {
   "cell_type": "markdown",
   "id": "0ba8901e",
   "metadata": {},
   "source": [
    "tuple( ) and list ()"
   ]
  },
  {
   "cell_type": "markdown",
   "id": "d596c294",
   "metadata": {},
   "source": [
    "<b>16. Variables that &quot;contain&quot; list values are not necessarily lists themselves. Instead, what do they\n",
    "contain?</b>\n"
   ]
  },
  {
   "cell_type": "markdown",
   "id": "2e814113",
   "metadata": {},
   "source": [
    "Reference of the list values."
   ]
  },
  {
   "cell_type": "markdown",
   "id": "99d02e22",
   "metadata": {},
   "source": [
    "<b>17. How do you distinguish between copy.copy() and copy.deepcopy()? </b>"
   ]
  },
  {
   "cell_type": "markdown",
   "id": "ca6c57dd",
   "metadata": {},
   "source": [
    "The copy.copy() function will do a shallow copy of a list it will store list in different memory location for 1 dimensional but for nested list it will change the existing item from list  while the copy.deepcopy() function will do a deep copy of a list recursively."
   ]
  },
  {
   "cell_type": "code",
   "execution_count": null,
   "id": "611f6143",
   "metadata": {},
   "outputs": [],
   "source": []
  }
 ],
 "metadata": {
  "kernelspec": {
   "display_name": "Python 3 (ipykernel)",
   "language": "python",
   "name": "python3"
  },
  "language_info": {
   "codemirror_mode": {
    "name": "ipython",
    "version": 3
   },
   "file_extension": ".py",
   "mimetype": "text/x-python",
   "name": "python",
   "nbconvert_exporter": "python",
   "pygments_lexer": "ipython3",
   "version": "3.9.12"
  }
 },
 "nbformat": 4,
 "nbformat_minor": 5
}
