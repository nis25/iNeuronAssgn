{
 "cells": [
  {
   "cell_type": "markdown",
   "id": "aa3e3470",
   "metadata": {},
   "source": [
    "## Assignment 25"
   ]
  },
  {
   "cell_type": "markdown",
   "id": "a789b524",
   "metadata": {},
   "source": [
    "### <b>1 . What is the difference between enclosing a list comprehension in square brackets and parentheses?</b>"
   ]
  },
  {
   "cell_type": "markdown",
   "id": "e433e264",
   "metadata": {},
   "source": [
    "List comprehension allow us to create a list using for loop while Generator Comprehension store the dataset in memory and gives the detail of object and generate the next element on demand."
   ]
  },
  {
   "cell_type": "markdown",
   "id": "1fbbccbc",
   "metadata": {},
   "source": [
    "### 2) What is the relationship between generators and iterators?"
   ]
  },
  {
   "cell_type": "markdown",
   "id": "91610160",
   "metadata": {},
   "source": [
    "Generators are mostly used to genrate iterators in a loops withot affecting the iteration of the loop, it does by using yield."
   ]
  },
  {
   "cell_type": "markdown",
   "id": "6dd5c652",
   "metadata": {},
   "source": [
    "### 3) What are the signs that a function is a generator function?"
   ]
  },
  {
   "cell_type": "markdown",
   "id": "7c6e4de4",
   "metadata": {},
   "source": [
    "Function returns object type and it uses yield keyword with function to return the object type"
   ]
  },
  {
   "cell_type": "markdown",
   "id": "899b12bb",
   "metadata": {},
   "source": [
    "### 4) What is the purpose of a yield statement?"
   ]
  },
  {
   "cell_type": "markdown",
   "id": "041b7eb2",
   "metadata": {},
   "source": [
    "It is similar to return but instead of returning a value it is used to create a generator function. A type of function that is memory efficient and can be used like an iterator object."
   ]
  },
  {
   "cell_type": "markdown",
   "id": "860b24b8",
   "metadata": {},
   "source": [
    "### 5) What is the relationship between map calls and list comprehensions? Make a comparison and contrast between the two."
   ]
  },
  {
   "cell_type": "markdown",
   "id": "167ea275",
   "metadata": {},
   "source": [
    "List comprehension and map calls are used for the simplicity of the code.It is also a substitute for map(),lambda functions,filter and reduce calls.\n",
    "1. List Comprehension is easier to read as compared to  map.\n",
    "2.List Comprehension allows filtering in map we don't have that facility.\n",
    "3. List Comprehension returns a list whereas map returns an object of iterable.\n",
    "4.List comprehension execution is faster than that of map function when the formula expression is huge and complex. \n",
    "5.Map function is faster than list comprehension when the formula is already defined as a function earlier. So, that map function is used without lambda expression. "
   ]
  },
  {
   "cell_type": "code",
   "execution_count": null,
   "id": "8d2c049c",
   "metadata": {},
   "outputs": [],
   "source": []
  }
 ],
 "metadata": {
  "kernelspec": {
   "display_name": "Python 3 (ipykernel)",
   "language": "python",
   "name": "python3"
  },
  "language_info": {
   "codemirror_mode": {
    "name": "ipython",
    "version": 3
   },
   "file_extension": ".py",
   "mimetype": "text/x-python",
   "name": "python",
   "nbconvert_exporter": "python",
   "pygments_lexer": "ipython3",
   "version": "3.9.12"
  }
 },
 "nbformat": 4,
 "nbformat_minor": 5
}
