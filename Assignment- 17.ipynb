{
 "cells": [
  {
   "cell_type": "markdown",
   "id": "4a21d5bd",
   "metadata": {},
   "source": [
    "## Assignment 17 "
   ]
  },
  {
   "cell_type": "markdown",
   "id": "8375d7f7",
   "metadata": {},
   "source": [
    "<b> 1. Assign the value 7 to the variable guess_me. Then, write the conditional tests (if, else, and elif) to\n",
    "print the string &#39;too low&#39; if guess_me is less than 7, &#39;too high&#39; if greater than 7, and &#39;just right&#39; if equal\n",
    "to 7. </b>"
   ]
  },
  {
   "cell_type": "code",
   "execution_count": 10,
   "id": "ae04da65",
   "metadata": {},
   "outputs": [
    {
     "name": "stdout",
     "output_type": "stream",
     "text": [
      "Enter the number you like :7\n",
      "just right\n"
     ]
    }
   ],
   "source": [
    "guess_me = 7 \n",
    "a = int(input(\"Enter the number you like :\"))\n",
    "if a > guess_me:\n",
    "    print(\"too high\")\n",
    "elif a < guess_me:\n",
    "    print(\"too low\")\n",
    "else:\n",
    "    print(\"just right\")"
   ]
  },
  {
   "cell_type": "markdown",
   "id": "d837209e",
   "metadata": {},
   "source": [
    "<b> 2. Assign the value 7 to the variable guess_me and the value 1 to the variable start. Write a while\n",
    "loop that compares start with guess_me. Print too low if start is less than guess me. If start equals\n",
    "guess_me, print &#39;found it!&#39; and exit the loop. If start is greater than guess_me, print &#39;oops&#39; and exit\n",
    "the loop. Increment start at the end of the loop. </b>"
   ]
  },
  {
   "cell_type": "code",
   "execution_count": null,
   "id": "1249b649",
   "metadata": {},
   "outputs": [],
   "source": [
    "guess_me = 7 \n",
    "start = 1\n",
    "while True :\n",
    "     start = start+1\n",
    " \n",
    "    if start < guess_me :\n",
    "        print('too low')\n",
    "        continue\n",
    "        \n",
    "    elif start == guess_me:\n",
    "        print('found it!')\n",
    "        continue\n",
    "    else:\n",
    "        print('oops')\n",
    "   \n",
    "    break"
   ]
  },
  {
   "cell_type": "markdown",
   "id": "3099809f",
   "metadata": {},
   "source": [
    "<b>3 .Print the following values of the list [3, 2, 1, 0] using a for loop.</b>"
   ]
  },
  {
   "cell_type": "code",
   "execution_count": 1,
   "id": "47ce4a20",
   "metadata": {},
   "outputs": [
    {
     "name": "stdout",
     "output_type": "stream",
     "text": [
      "3\n",
      "2\n",
      "1\n",
      "0\n"
     ]
    }
   ],
   "source": [
    "l = [3,2,1,0]\n",
    "for i in l :\n",
    "    print(i)"
   ]
  },
  {
   "cell_type": "markdown",
   "id": "59e4cc32",
   "metadata": {},
   "source": [
    "<b> 4. Use a list comprehension to make a list of the even numbers in range(10)</b>"
   ]
  },
  {
   "cell_type": "code",
   "execution_count": 2,
   "id": "ce92bd3e",
   "metadata": {},
   "outputs": [
    {
     "data": {
      "text/plain": [
       "[0, 2, 4, 6, 8, 10, 12, 14, 16, 18]"
      ]
     },
     "execution_count": 2,
     "metadata": {},
     "output_type": "execute_result"
    }
   ],
   "source": [
    "l = [i*2 for i in range(10)]\n",
    "l"
   ]
  },
  {
   "cell_type": "markdown",
   "id": "1a22a28d",
   "metadata": {},
   "source": [
    "<b> 5. Use a dictionary comprehension to create the dictionary squares. Use range(10) to return the\n",
    "keys, and use the square of each key as its value. </b>"
   ]
  },
  {
   "cell_type": "code",
   "execution_count": 5,
   "id": "7122e887",
   "metadata": {},
   "outputs": [
    {
     "data": {
      "text/plain": [
       "{0: 0, 1: 1, 2: 4, 3: 9, 4: 16, 5: 25, 6: 36, 7: 49, 8: 64, 9: 81}"
      ]
     },
     "execution_count": 5,
     "metadata": {},
     "output_type": "execute_result"
    }
   ],
   "source": [
    "squares = {i: i**2  for i in range(10)}\n",
    "squares"
   ]
  },
  {
   "cell_type": "markdown",
   "id": "30974179",
   "metadata": {},
   "source": [
    "<b> 6. Construct the set odd from the odd numbers in the range using a set comprehension (10).</b>"
   ]
  },
  {
   "cell_type": "code",
   "execution_count": 10,
   "id": "ff0f6020",
   "metadata": {},
   "outputs": [
    {
     "name": "stdout",
     "output_type": "stream",
     "text": [
      "{1, 3, 5, 7, 9}\n"
     ]
    }
   ],
   "source": [
    "odd_set = {i for i in range(10) if i%2!=0}\n",
    "print(odd_set)"
   ]
  },
  {
   "cell_type": "markdown",
   "id": "dfec5a9d",
   "metadata": {},
   "source": [
    "<b> 7. Use a generator comprehension to return the string &#39;Got &#39; and a number for the numbers in\n",
    "range(10). Iterate through this by using a for loop. </b>"
   ]
  },
  {
   "cell_type": "code",
   "execution_count": 53,
   "id": "681f9f10",
   "metadata": {},
   "outputs": [
    {
     "name": "stdout",
     "output_type": "stream",
     "text": [
      "Got0\n",
      "Got1\n",
      "Got2\n",
      "Got3\n",
      "Got4\n",
      "Got5\n",
      "Got6\n",
      "Got7\n",
      "Got8\n",
      "Got9\n"
     ]
    }
   ],
   "source": [
    "def num_gen ():\n",
    "    for i in range(10):\n",
    "        yield i\n",
    "gen = num_gen()\n",
    "for i in gen:\n",
    "    print('Got'+''+ str(i))\n",
    "##############################\n"
   ]
  },
  {
   "cell_type": "markdown",
   "id": "a5ffe6e5",
   "metadata": {},
   "source": [
    "<b>8. Define a function called good that returns the list [&#39;Harry&#39;, &#39;Ron&#39;, &#39;Hermione&#39;].</b>"
   ]
  },
  {
   "cell_type": "code",
   "execution_count": 28,
   "id": "20cd4d19",
   "metadata": {},
   "outputs": [
    {
     "data": {
      "text/plain": [
       "['Harry', 'Ron', 'Hermione']"
      ]
     },
     "execution_count": 28,
     "metadata": {},
     "output_type": "execute_result"
    }
   ],
   "source": [
    "def good(my_list):\n",
    "    return my_list\n",
    "my_list = ['Harry','Ron','Hermione']\n",
    "good(my_list)"
   ]
  },
  {
   "cell_type": "markdown",
   "id": "6fbd8a02",
   "metadata": {},
   "source": [
    "<b>9. Define a generator function called get_odds that returns the odd numbers from range(10). Use a\n",
    "for loop to find and print the third value returned.</b>"
   ]
  },
  {
   "cell_type": "code",
   "execution_count": 47,
   "id": "9150c39a",
   "metadata": {},
   "outputs": [
    {
     "data": {
      "text/plain": [
       "[1, 3, 5, 7, 9]"
      ]
     },
     "execution_count": 47,
     "metadata": {},
     "output_type": "execute_result"
    }
   ],
   "source": [
    "def get_odds(n):\n",
    "    result = []\n",
    "    for i in range (n+1):\n",
    "        if i % 2 != 0:\n",
    "            result.append(i)\n",
    "    return result\n",
    "g= get_odds(10)\n",
    "g"
   ]
  },
  {
   "cell_type": "code",
   "execution_count": 50,
   "id": "7b75235c",
   "metadata": {},
   "outputs": [
    {
     "name": "stdout",
     "output_type": "stream",
     "text": [
      "5\n"
     ]
    }
   ],
   "source": [
    "count = 0\n",
    "for i in g:\n",
    "    if count == 2:\n",
    "        print(i)\n",
    "    count = count+1  \n",
    "\n",
    "        \n",
    "    \n",
    "   "
   ]
  },
  {
   "cell_type": "markdown",
   "id": "240f7570",
   "metadata": {},
   "source": [
    "<b>10. Define an exception called OopsException. Raise this exception to see what happens. Then write\n",
    "the code to catch this exception and print &#39;Caught an oops&#39;.</b>"
   ]
  },
  {
   "cell_type": "code",
   "execution_count": 44,
   "id": "3d14b8f2",
   "metadata": {},
   "outputs": [
    {
     "name": "stdout",
     "output_type": "stream",
     "text": [
      "Caught an oops\n"
     ]
    }
   ],
   "source": [
    "class OopsException(Exception):\n",
    "    pass\n",
    "\n",
    "def raiseException(num):\n",
    "    if num < 0:\n",
    "        raise OopsException(num)\n",
    "\n",
    "try:\n",
    "    raiseException(-1)\n",
    "except OopsException as err:\n",
    "    print('Caught an oops')"
   ]
  },
  {
   "cell_type": "markdown",
   "id": "d55d8360",
   "metadata": {},
   "source": [
    "<b>11. Use zip() to make a dictionary called movies that pairs these lists: titles = [&#39;Creature of Habit&#39;,\n",
    "&#39;Crewel Fate&#39;] and plots = [&#39;A nun turns into a monster&#39;, &#39;A haunted yarn shop&#39;]. </b>"
   ]
  },
  {
   "cell_type": "code",
   "execution_count": 43,
   "id": "1f2132e6",
   "metadata": {},
   "outputs": [
    {
     "name": "stdout",
     "output_type": "stream",
     "text": [
      "{'Creature of Habit': 'A nun turns into a monster', 'Crewel Fate': 'A haunted yarn shop'}\n"
     ]
    }
   ],
   "source": [
    "titles = ['Creature of Habit', 'Crewel Fate']\n",
    "plots = ['A nun turns into a monster', 'A haunted yarn shop']\n",
    "movies = {titles: plots for titles, plots in zip(titles, plots)}\n",
    "print(movies)\n",
    "\n"
   ]
  },
  {
   "cell_type": "code",
   "execution_count": null,
   "id": "4430d6b6",
   "metadata": {},
   "outputs": [],
   "source": []
  }
 ],
 "metadata": {
  "kernelspec": {
   "display_name": "Python 3 (ipykernel)",
   "language": "python",
   "name": "python3"
  },
  "language_info": {
   "codemirror_mode": {
    "name": "ipython",
    "version": 3
   },
   "file_extension": ".py",
   "mimetype": "text/x-python",
   "name": "python",
   "nbconvert_exporter": "python",
   "pygments_lexer": "ipython3",
   "version": "3.9.12"
  }
 },
 "nbformat": 4,
 "nbformat_minor": 5
}
