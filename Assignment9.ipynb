{
 "cells": [
  {
   "cell_type": "markdown",
   "id": "8812401e",
   "metadata": {},
   "source": [
    "## Assignment 9"
   ]
  },
  {
   "cell_type": "markdown",
   "id": "0d00119f",
   "metadata": {},
   "source": [
    "<b>1. To what does a relative path refer?</b>"
   ]
  },
  {
   "cell_type": "markdown",
   "id": "5f814161",
   "metadata": {},
   "source": [
    "Relative path is relative to the root of the current directory."
   ]
  },
  {
   "cell_type": "markdown",
   "id": "a4944286",
   "metadata": {},
   "source": [
    "<b> 2. What does an absolute path start with your operating system?</b>\n"
   ]
  },
  {
   "cell_type": "markdown",
   "id": "d4c188f3",
   "metadata": {},
   "source": [
    "Root folder starts with C:\\."
   ]
  },
  {
   "cell_type": "markdown",
   "id": "fafd2335",
   "metadata": {},
   "source": [
    "<b>3. What do the functions os.getcwd() and os.chdir() do?</b>"
   ]
  },
  {
   "cell_type": "markdown",
   "id": "1fef71ea",
   "metadata": {},
   "source": [
    "os.getcwd() returns the current working directory and os.chdir() changes the current directory."
   ]
  },
  {
   "cell_type": "markdown",
   "id": "f70a516a",
   "metadata": {},
   "source": [
    "<b>4. What are the . and .. folders?</b>\n"
   ]
  },
  {
   "cell_type": "markdown",
   "id": "e37b519c",
   "metadata": {},
   "source": [
    "single dot returns the current folder and double dot returns the parents folder."
   ]
  },
  {
   "cell_type": "markdown",
   "id": "a2206518",
   "metadata": {},
   "source": [
    "<b>5. In C:\\bacon\\eggs\\spam.txt, which part is the dir name, and which part is the base name?</b>\n"
   ]
  },
  {
   "cell_type": "markdown",
   "id": "45b0e384",
   "metadata": {},
   "source": [
    "C:\\bacon\\eggs\\  is directory and spam.txt is base."
   ]
  },
  {
   "cell_type": "markdown",
   "id": "6c582f2c",
   "metadata": {},
   "source": [
    "<b>6. What are the three “mode” arguments that can be passed to the open() function?</b>\n"
   ]
  },
  {
   "cell_type": "markdown",
   "id": "edeeecec",
   "metadata": {},
   "source": [
    "Three mode are: read ('r'),write('w')and append('a')"
   ]
  },
  {
   "cell_type": "markdown",
   "id": "821a02f9",
   "metadata": {},
   "source": [
    "<b>7. What happens if an existing file is opened in write mode?</b>\n"
   ]
  },
  {
   "cell_type": "markdown",
   "id": "21fbc0f1",
   "metadata": {},
   "source": [
    "It will be overwritten."
   ]
  },
  {
   "cell_type": "markdown",
   "id": "286526bf",
   "metadata": {},
   "source": [
    "<b>8. How do you tell the difference between read() and readlines()?</b>\n"
   ]
  },
  {
   "cell_type": "markdown",
   "id": "09778849",
   "metadata": {},
   "source": [
    "read() returns the entire content as string whereas readlines()returns the list of string where each string is line of the content."
   ]
  },
  {
   "cell_type": "markdown",
   "id": "acc39bbc",
   "metadata": {},
   "source": [
    "<b>9. What data structure does a shelf value resemble?</b>"
   ]
  },
  {
   "cell_type": "markdown",
   "id": "0d71501b",
   "metadata": {},
   "source": [
    "It resembles dictionary values, it has keys() and values() method."
   ]
  },
  {
   "cell_type": "code",
   "execution_count": null,
   "id": "e91be5d7",
   "metadata": {},
   "outputs": [],
   "source": []
  }
 ],
 "metadata": {
  "kernelspec": {
   "display_name": "Python 3 (ipykernel)",
   "language": "python",
   "name": "python3"
  },
  "language_info": {
   "codemirror_mode": {
    "name": "ipython",
    "version": 3
   },
   "file_extension": ".py",
   "mimetype": "text/x-python",
   "name": "python",
   "nbconvert_exporter": "python",
   "pygments_lexer": "ipython3",
   "version": "3.9.12"
  }
 },
 "nbformat": 4,
 "nbformat_minor": 5
}
