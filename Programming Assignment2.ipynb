{
 "cells": [
  {
   "cell_type": "markdown",
   "id": "f4088ccb",
   "metadata": {},
   "source": [
    "## Programming Assignment 2"
   ]
  },
  {
   "cell_type": "markdown",
   "id": "a43fc9ea",
   "metadata": {},
   "source": [
    "<b>1. Write a Python program to convert kilometers to miles?</b>"
   ]
  },
  {
   "cell_type": "code",
   "execution_count": 4,
   "id": "f225a0b5",
   "metadata": {},
   "outputs": [
    {
     "name": "stdout",
     "output_type": "stream",
     "text": [
      "Enter a km to convert in miles: 9\n",
      "5.59206\n"
     ]
    }
   ],
   "source": [
    "km = float(input(\"Enter a km to convert in miles: \"))\n",
    "miles = km*0.62134\n",
    "print(miles)"
   ]
  },
  {
   "cell_type": "markdown",
   "id": "11b94f32",
   "metadata": {},
   "source": [
    "<b>2. Write a Python program to convert Celsius to Fahrenheit?</b>"
   ]
  },
  {
   "cell_type": "code",
   "execution_count": 8,
   "id": "43b807ca",
   "metadata": {},
   "outputs": [
    {
     "name": "stdout",
     "output_type": "stream",
     "text": [
      "Enter temperature in Celsius:25\n",
      "77.0\n"
     ]
    }
   ],
   "source": [
    "C = float(input(\"Enter temperature in Celsius:\"))\n",
    "F =(C * 9/5) + 32\n",
    "print(F)"
   ]
  },
  {
   "cell_type": "markdown",
   "id": "5df2af36",
   "metadata": {},
   "source": [
    "<b>3. Write a Python program to display calendar?</b>"
   ]
  },
  {
   "cell_type": "code",
   "execution_count": 11,
   "id": "17f42588",
   "metadata": {},
   "outputs": [
    {
     "name": "stdout",
     "output_type": "stream",
     "text": [
      "Enter a year 2006\n",
      "Enter a month2\n",
      "   February 2006\n",
      "Mo Tu We Th Fr Sa Su\n",
      "       1  2  3  4  5\n",
      " 6  7  8  9 10 11 12\n",
      "13 14 15 16 17 18 19\n",
      "20 21 22 23 24 25 26\n",
      "27 28\n",
      "\n"
     ]
    }
   ],
   "source": [
    "import calendar\n",
    "year = int(input(\"Enter a year \"))\n",
    "month = int(input(\"Enter a month\"))\n",
    "print(calendar.month(year, month))"
   ]
  },
  {
   "cell_type": "markdown",
   "id": "cf137c09",
   "metadata": {},
   "source": [
    "<b>4. Write a Python program to solve quadratic equation?</b>"
   ]
  },
  {
   "cell_type": "code",
   "execution_count": 16,
   "id": "2f75f893",
   "metadata": {},
   "outputs": [
    {
     "name": "stdout",
     "output_type": "stream",
     "text": [
      "Enter the variable of x^2 :4\n",
      "Enter the variable of x: 5\n",
      "Enter a constant:6\n",
      "(-0.625+1.0532687216470449j)\n",
      "(-0.625-1.0532687216470449j)\n"
     ]
    }
   ],
   "source": [
    "import cmath\n",
    "a= int(input(\"Enter the variable of x^2 :\"))\n",
    "b= int(input(\"Enter the variable of x: \"))\n",
    "c= int(input(\"Enter a constant:\"))\n",
    "d=(b**2)-(4*a*c)\n",
    "value1 = (-b+cmath.sqrt(d))/(2*a)\n",
    "value2=(-b-cmath.sqrt(d))/(2*a)\n",
    "print(value1)\n",
    "print(value2)"
   ]
  },
  {
   "cell_type": "markdown",
   "id": "1cee5b10",
   "metadata": {},
   "source": [
    "<b> 5. Write a Python program to swap two variables without temp variable?</b>"
   ]
  },
  {
   "cell_type": "code",
   "execution_count": 18,
   "id": "bf8b1988",
   "metadata": {},
   "outputs": [
    {
     "name": "stdout",
     "output_type": "stream",
     "text": [
      "Enter a variable for a:8\n",
      "Enter another variable for b9\n",
      "9\n",
      "8\n"
     ]
    }
   ],
   "source": [
    "a=input(\"Enter a variable for a:\")\n",
    "b= input(\"Enter another variable for b\")\n",
    "a,b=b,a\n",
    "print(a)\n",
    "print(b)"
   ]
  },
  {
   "cell_type": "code",
   "execution_count": null,
   "id": "253156bc",
   "metadata": {},
   "outputs": [],
   "source": []
  }
 ],
 "metadata": {
  "kernelspec": {
   "display_name": "Python 3 (ipykernel)",
   "language": "python",
   "name": "python3"
  },
  "language_info": {
   "codemirror_mode": {
    "name": "ipython",
    "version": 3
   },
   "file_extension": ".py",
   "mimetype": "text/x-python",
   "name": "python",
   "nbconvert_exporter": "python",
   "pygments_lexer": "ipython3",
   "version": "3.9.12"
  }
 },
 "nbformat": 4,
 "nbformat_minor": 5
}
