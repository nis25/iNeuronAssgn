{
 "cells": [
  {
   "cell_type": "markdown",
   "id": "7c7ff609",
   "metadata": {},
   "source": [
    "## Programming Assignment"
   ]
  },
  {
   "cell_type": "markdown",
   "id": "56e60814",
   "metadata": {},
   "source": [
    "<b>1. Write a Python Program to Find the Factorial of a Number?</b>"
   ]
  },
  {
   "cell_type": "code",
   "execution_count": 2,
   "id": "b24dfe47",
   "metadata": {},
   "outputs": [
    {
     "name": "stdout",
     "output_type": "stream",
     "text": [
      "Enter any number:72\n",
      "61234458376886086861524070385274672740778091784697328983823014963978384987221689274204160000000000000000\n"
     ]
    }
   ],
   "source": [
    "num = int(input(\"Enter any number:\"))\n",
    "fact = 1\n",
    "for i in range (1,num+1):\n",
    "    fact= fact*i\n",
    "print(fact)"
   ]
  },
  {
   "cell_type": "markdown",
   "id": "bfa7a5ed",
   "metadata": {},
   "source": [
    "<b>2. Write a Python Program to Display the multiplication Table?</b>"
   ]
  },
  {
   "cell_type": "code",
   "execution_count": 7,
   "id": "b421bd24",
   "metadata": {},
   "outputs": [
    {
     "name": "stdout",
     "output_type": "stream",
     "text": [
      "Enter any number:8\n",
      "8 x 1 = 8\n",
      "8 x 2 = 16\n",
      "8 x 3 = 24\n",
      "8 x 4 = 32\n",
      "8 x 5 = 40\n",
      "8 x 6 = 48\n",
      "8 x 7 = 56\n",
      "8 x 8 = 64\n",
      "8 x 9 = 72\n",
      "8 x 10 = 80\n"
     ]
    }
   ],
   "source": [
    "num = int(input(\"Enter any number:\"))\n",
    "for i in range (1,11):\n",
    "    print(num,'x',i,'=',num*i)"
   ]
  },
  {
   "cell_type": "markdown",
   "id": "3fc32536",
   "metadata": {},
   "source": [
    "<b>3. Write a Python Program to Print the Fibonacci sequence?</b>"
   ]
  },
  {
   "cell_type": "code",
   "execution_count": 22,
   "id": "ee781c72",
   "metadata": {},
   "outputs": [
    {
     "name": "stdout",
     "output_type": "stream",
     "text": [
      "Enter  number to print series7\n",
      "21 \n"
     ]
    }
   ],
   "source": [
    "count1=0\n",
    "count2=1\n",
    "series=0\n",
    "\n",
    "num = int(input(\"Enter  number to print series\"))\n",
    "for i in range(num+1):\n",
    "    count1 = count2\n",
    "    count2=series\n",
    "    series=count1+count2\n",
    "    \n",
    "print(series,'')\n",
    "\n",
    "    \n",
    "    "
   ]
  },
  {
   "cell_type": "code",
   "execution_count": 28,
   "id": "1adb86c4",
   "metadata": {},
   "outputs": [
    {
     "name": "stdout",
     "output_type": "stream",
     "text": [
      "Enter number to print series:7\n",
      "[0, 1, 1, 2, 3, 5, 8, 13, 21]\n"
     ]
    }
   ],
   "source": [
    "series=[]\n",
    "num=int(input(\"Enter number to print series:\"))\n",
    "if num==1:\n",
    "    series=[0]\n",
    "else:\n",
    "    series=[0,1]\n",
    "    for i in range(1,num+1):\n",
    "        series.append(series[i-1]+series[i])\n",
    "print(series)\n"
   ]
  },
  {
   "cell_type": "markdown",
   "id": "fb38cd2e",
   "metadata": {},
   "source": [
    "<b>4. Write a Python Program to Check Armstrong Number?</b>"
   ]
  },
  {
   "cell_type": "code",
   "execution_count": 10,
   "id": "629b9fb5",
   "metadata": {},
   "outputs": [
    {
     "name": "stdout",
     "output_type": "stream",
     "text": [
      "Enter a number:153\n",
      "153 is an Armstrong number\n"
     ]
    }
   ],
   "source": [
    "num = int(input(\"Enter a number:\"))\n",
    "sum= 0\n",
    "temp = num\n",
    "while temp > 0:\n",
    "    digit = temp % 10\n",
    "    sum += digit ** 3\n",
    "    temp //= 10\n",
    "if num == sum:\n",
    "    print(num,\"is an Armstrong number\")\n",
    "else:\n",
    "    print(num,\"is not an Armstrong number\")"
   ]
  },
  {
   "cell_type": "markdown",
   "id": "6c2bca9f",
   "metadata": {},
   "source": [
    "<b>5. Write a Python Program to Find Armstrong Number in an Interval?</b>"
   ]
  },
  {
   "cell_type": "code",
   "execution_count": 15,
   "id": "0e796b4c",
   "metadata": {},
   "outputs": [
    {
     "name": "stdout",
     "output_type": "stream",
     "text": [
      "Enter a minimum range:100\n",
      "Enter a maximum range:1000\n",
      "125\n",
      "153\n",
      "216\n",
      "370\n",
      "371\n",
      "407\n",
      "729\n"
     ]
    }
   ],
   "source": [
    "num1 = int(input(\"Enter a minimum range:\"))\n",
    "num2 = int(input(\"Enter a maximum range:\"))\n",
    "for num in range(num1,num2):\n",
    "    temp=num\n",
    "    sum=0\n",
    "    while temp>0:\n",
    "        digit=temp%10\n",
    "        sum=sum+digit**3\n",
    "        temp=temp//10\n",
    "        if sum==num:\n",
    "            print (num)\n"
   ]
  },
  {
   "cell_type": "markdown",
   "id": "1de7e8c9",
   "metadata": {},
   "source": [
    "<b>6. Write a Python Program to Find the Sum of Natural Numbers?</b>"
   ]
  },
  {
   "cell_type": "code",
   "execution_count": 14,
   "id": "5e8ff531",
   "metadata": {},
   "outputs": [
    {
     "name": "stdout",
     "output_type": "stream",
     "text": [
      "Enter natural number for addition:100\n",
      "5050\n"
     ]
    }
   ],
   "source": [
    "sum = 0\n",
    "num = int(input(\"Enter natural number for addition:\"))\n",
    "if num >0:\n",
    "    for i in range(1,num+1,1):\n",
    "        sum=sum+i\n",
    "print(sum)"
   ]
  },
  {
   "cell_type": "code",
   "execution_count": null,
   "id": "d10c1a20",
   "metadata": {},
   "outputs": [],
   "source": []
  }
 ],
 "metadata": {
  "kernelspec": {
   "display_name": "Python 3 (ipykernel)",
   "language": "python",
   "name": "python3"
  },
  "language_info": {
   "codemirror_mode": {
    "name": "ipython",
    "version": 3
   },
   "file_extension": ".py",
   "mimetype": "text/x-python",
   "name": "python",
   "nbconvert_exporter": "python",
   "pygments_lexer": "ipython3",
   "version": "3.9.12"
  }
 },
 "nbformat": 4,
 "nbformat_minor": 5
}
