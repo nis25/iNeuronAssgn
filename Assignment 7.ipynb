{
 "cells": [
  {
   "cell_type": "markdown",
   "id": "acf3d18d",
   "metadata": {},
   "source": [
    "## Assignment 7 ##"
   ]
  },
  {
   "cell_type": "markdown",
   "id": "37deab51",
   "metadata": {},
   "source": [
    "<b> 1. What is the name of the feature responsible for generating Regex objects?</b>"
   ]
  },
  {
   "cell_type": "markdown",
   "id": "2eca262d",
   "metadata": {},
   "source": [
    "re.compile() generates Regex object."
   ]
  },
  {
   "cell_type": "markdown",
   "id": "7b74ab2b",
   "metadata": {},
   "source": [
    "<b> 2. Why do raw strings often appear in Regex objects?</b>"
   ]
  },
  {
   "cell_type": "markdown",
   "id": "0a9f565e",
   "metadata": {},
   "source": [
    "It is used so backslashes do not have to be escaped."
   ]
  },
  {
   "cell_type": "markdown",
   "id": "f705d964",
   "metadata": {},
   "source": [
    "<b>3. What is the return value of the search() method?</b>"
   ]
  },
  {
   "cell_type": "markdown",
   "id": "afb1b20f",
   "metadata": {},
   "source": [
    "It returns Match object."
   ]
  },
  {
   "cell_type": "markdown",
   "id": "af54111b",
   "metadata": {},
   "source": [
    "<b>4. From a Match item, how do you get the actual strings that match the pattern?</b>"
   ]
  },
  {
   "cell_type": "markdown",
   "id": "e9d3dc97",
   "metadata": {},
   "source": [
    "group()method  returns the string of the matched text."
   ]
  },
  {
   "cell_type": "markdown",
   "id": "99622975",
   "metadata": {},
   "source": [
    "<b>5. In the regex which created from the r'(\\d\\d\\d)-(\\d\\d\\d-\\d\\d\\d\\d)', what does group zero cover? Group 2? Group 1?</b>"
   ]
  },
  {
   "cell_type": "markdown",
   "id": "469e4223",
   "metadata": {},
   "source": [
    "Group zero covers entire match , Group 1 covers first set of paranthesis and Group 2 will cover second set of paranthesis "
   ]
  },
  {
   "cell_type": "markdown",
   "id": "a6ba4337",
   "metadata": {},
   "source": [
    "<b>6. In standard expression syntax, parentheses and intervals have distinct meanings. How can you tell a regex that you want it to fit real parentheses and periods?</b>"
   ]
  },
  {
   "cell_type": "markdown",
   "id": "d7ee52e9",
   "metadata": {},
   "source": [
    "Periods and parentheses can be escaped with a backslash: \\\\., \\\\ (, and \\\\\\)."
   ]
  },
  {
   "cell_type": "markdown",
   "id": "d4e24e4c",
   "metadata": {},
   "source": [
    "<b>7. The findall() method returns a string list or a list of string tuples. What causes it to return one of the two options?</b>"
   ]
  },
  {
   "cell_type": "markdown",
   "id": "e637262d",
   "metadata": {},
   "source": [
    "It returns a list of strings that match the group. If the pattern has multiple group a list of tuples of string is returned. "
   ]
  },
  {
   "cell_type": "markdown",
   "id": "759d0c0f",
   "metadata": {},
   "source": [
    "<b>8.In standard expressions, what does the | character mean?</b>"
   ]
  },
  {
   "cell_type": "markdown",
   "id": "c263cb05",
   "metadata": {},
   "source": [
    "It signifies \n",
    "or,either between two group."
   ]
  },
  {
   "cell_type": "markdown",
   "id": "8eb3c3a2",
   "metadata": {},
   "source": [
    "<b>9. In regular expressions, what does the ? character stand for?</b>"
   ]
  },
  {
   "cell_type": "markdown",
   "id": "cfcf692e",
   "metadata": {},
   "source": [
    "It means this may or may not be here"
   ]
  },
  {
   "cell_type": "markdown",
   "id": "9f50ba40",
   "metadata": {},
   "source": [
    "<b> 10.In regular expressions, what is the difference between the + and * characters?</b>"
   ]
  },
  {
   "cell_type": "markdown",
   "id": "bd2b23e7",
   "metadata": {},
   "source": [
    "  \"+\" is shortcut for one or more whereas * is shortcut of zero or more "
   ]
  },
  {
   "cell_type": "markdown",
   "id": "06824f39",
   "metadata": {},
   "source": [
    "<b> 11. What is the difference between {4} and {4,5} in regular expression?</b>"
   ]
  },
  {
   "cell_type": "markdown",
   "id": "76b16ce7",
   "metadata": {},
   "source": [
    "{4} will match exactly 4 instances of the preceding group whereas {4,5} will match betwen 4 and 5 instances "
   ]
  },
  {
   "cell_type": "markdown",
   "id": "770f757e",
   "metadata": {},
   "source": [
    "<b> 12. What do you mean by the \\d, \\w, and \\s shorthand character classes signify in regular expressions?</b>"
   ]
  },
  {
   "cell_type": "markdown",
   "id": "2f5811ef",
   "metadata": {},
   "source": [
    "\\d looks for digits  \n",
    "\\s looks for whitespace  \n",
    "\\w looks for word characters"
   ]
  },
  {
   "cell_type": "markdown",
   "id": "21dde194",
   "metadata": {},
   "source": [
    "<b> 13. What do means by \\D, \\W, and \\S shorthand character classes signify in regular expressions?</b>"
   ]
  },
  {
   "cell_type": "markdown",
   "id": "00c4f751",
   "metadata": {},
   "source": [
    "\\D looks for no digits  \n",
    "\\S looks for  no whitespace  \n",
    "\\W looks for  no word characters"
   ]
  },
  {
   "cell_type": "markdown",
   "id": "16f561e9",
   "metadata": {},
   "source": [
    "<b>14. What is the difference between .* and .*? </b>"
   ]
  },
  {
   "cell_type": "markdown",
   "id": "09a6ba34",
   "metadata": {},
   "source": [
    "The .* performs a greedy match, and the .*? performs a nongreedy match."
   ]
  },
  {
   "cell_type": "markdown",
   "id": "7a43ebfb",
   "metadata": {},
   "source": [
    "<b>15.What is the syntax for matching both numbers and lowercase letters with a character class? </b>"
   ]
  },
  {
   "cell_type": "markdown",
   "id": "e9011f9e",
   "metadata": {},
   "source": [
    "Either [0-9a-z] or [a-z0-9]"
   ]
  },
  {
   "cell_type": "markdown",
   "id": "d5340ba7",
   "metadata": {},
   "source": [
    "<b> 16. What is the procedure for making a normal expression in regax case insensitive?</b>"
   ]
  },
  {
   "cell_type": "markdown",
   "id": "bf1b9fe6",
   "metadata": {},
   "source": [
    "Passing re.I or re.IGNORECASE as the second argument to re.compile() will make the matching case insensitive"
   ]
  },
  {
   "cell_type": "markdown",
   "id": "8b435b3f",
   "metadata": {},
   "source": [
    "<b>17. What does the . character normally match? What does it match if re.DOTALL is passed as 2nd argument in re.compile()?</b>"
   ]
  },
  {
   "cell_type": "markdown",
   "id": "ec0ef9da",
   "metadata": {},
   "source": [
    "The . character normally matches any character except the newline character. If re.DOTALL is passed as the second argument to re.compile(), then the dot will also match newline characters."
   ]
  },
  {
   "cell_type": "markdown",
   "id": "ad62a594",
   "metadata": {},
   "source": [
    "<b> 18. If numReg = re.compile(r'\\d+'), what will numRegex.sub('X', '11 drummers, 10 pipers, five rings, 4 hen') return? </b>"
   ]
  },
  {
   "cell_type": "code",
   "execution_count": 10,
   "id": "3df9f525",
   "metadata": {},
   "outputs": [
    {
     "data": {
      "text/plain": [
       "'X drummers, X pipers, five rings, X hen'"
      ]
     },
     "execution_count": 10,
     "metadata": {},
     "output_type": "execute_result"
    }
   ],
   "source": [
    "import regex as re\n",
    "numReg = re.compile(r'\\d+')\n",
    "numReg.sub('X', '11 drummers, 10 pipers, five rings, 4 hen')\n"
   ]
  },
  {
   "cell_type": "markdown",
   "id": "9ba58f27",
   "metadata": {},
   "source": [
    "<b> 19. What does passing re.VERBOSE as the 2nd argument to re.compile() allow to do?</b>"
   ]
  },
  {
   "cell_type": "markdown",
   "id": "e6246d81",
   "metadata": {},
   "source": [
    "The re.VERBOSE argument allows you to add whitespace and comments to the string passed to re.compile()"
   ]
  },
  {
   "cell_type": "markdown",
   "id": "830a3f88",
   "metadata": {},
   "source": [
    "<b>20. How would you write a regex that match a number with comma for every three digits? It must match the given following:  \n",
    "'42'  \n",
    "'1,234'  \n",
    "'6,368,745'  \n",
    "but not the following:  \n",
    "'12,34,567' (which has only two digits between the commas)  \n",
    "'1234' (which lacks commas)</b>\n"
   ]
  },
  {
   "cell_type": "markdown",
   "id": "19f02863",
   "metadata": {},
   "source": [
    "re.compile(r'^\\d{1,3}(,\\d{3})*$') will create this regex, but other regex strings can produce a similar regular expression."
   ]
  },
  {
   "cell_type": "markdown",
   "id": "6f0cdc6a",
   "metadata": {},
   "source": [
    "<b> 21. How would you write a regex that matches the full name of someone whose last name is Watanabe? You can assume that the first name that comes before it will always be one word that begins with a capital letter. The regex must match the following:\n",
    "'Haruto Watanabe'  \n",
    "'Alice Watanabe'  \n",
    "'RoboCop Watanabe'  \n",
    "but not the following:  \n",
    "'haruto Watanabe' (where the first name is not capitalized)  \n",
    "'Mr. Watanabe' (where the preceding word has a nonletter character)  \n",
    "'Watanabe' (which has no first name)  \n",
    "'Haruto watanabe' (where Watanabe is not capitalized)  \n",
    "</b>"
   ]
  },
  {
   "cell_type": "markdown",
   "id": "4764ee71",
   "metadata": {},
   "source": [
    "re.compile(r'[A-Z][a-z]*\\sNakamoto')"
   ]
  },
  {
   "cell_type": "markdown",
   "id": "59e5abfd",
   "metadata": {},
   "source": [
    "<b> 22. How would you write a regex that matches a sentence where the first word is either Alice, Bob, or Carol; the second word is either eats, pets, or throws; the third word is apples, cats, or baseballs; and the sentence ends   with a period? This regex should be case-insensitive. \n",
    "It must match the following:  \n",
    "'Alice eats apples.'    \n",
    "'Bob pets cats.'  \n",
    "'Carol throws baseballs.'  \n",
    "'Alice throws Apples.'  \n",
    "'BOB EATS CATS.'  \n",
    "but not the following:  \n",
    "'RoboCop eats apples.'  \n",
    "'ALICE THROWS FOOTBALLS.'  \n",
    "'Carol eats 7 cats.'\n"
   ]
  },
  {
   "cell_type": "markdown",
   "id": "2c6e6144",
   "metadata": {},
   "source": [
    "re.compile(r'(Alice|Bob|Carol)\\s(eats|pets|throws)\\s(apples|cats|baseballs)\\.', re.IGNORECASE)"
   ]
  },
  {
   "cell_type": "code",
   "execution_count": null,
   "id": "8ab48c91",
   "metadata": {},
   "outputs": [],
   "source": []
  }
 ],
 "metadata": {
  "kernelspec": {
   "display_name": "Python 3 (ipykernel)",
   "language": "python",
   "name": "python3"
  },
  "language_info": {
   "codemirror_mode": {
    "name": "ipython",
    "version": 3
   },
   "file_extension": ".py",
   "mimetype": "text/x-python",
   "name": "python",
   "nbconvert_exporter": "python",
   "pygments_lexer": "ipython3",
   "version": "3.9.12"
  }
 },
 "nbformat": 4,
 "nbformat_minor": 5
}
