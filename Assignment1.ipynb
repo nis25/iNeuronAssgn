{
 "cells": [
  {
   "cell_type": "markdown",
   "id": "32c8f566",
   "metadata": {},
   "source": [
    "## Assignment 1"
   ]
  },
  {
   "cell_type": "markdown",
   "id": "eb0d2d96",
   "metadata": {},
   "source": [
    "<b> Q1. In the below elements which of them are values or an expression ? eg:- values can be integer or string and expressions will be mathmatical operators.</b>"
   ]
  },
  {
   "cell_type": "markdown",
   "id": "5544c3d2",
   "metadata": {},
   "source": [
    "Solution :- * :-Expression  \n",
    "            'hello' :- Values  \n",
    "             -87.8 :- Values  \n",
    "              - :- Expression   \n",
    "              / :- Expression  \n",
    "              + :- Expression  \n",
    "              6 :- Values  "
   ]
  },
  {
   "cell_type": "markdown",
   "id": "24b31b8f",
   "metadata": {},
   "source": [
    "<b>Q2. What is the difference between string and variable?</b>"
   ]
  },
  {
   "cell_type": "markdown",
   "id": "c8d67661",
   "metadata": {},
   "source": [
    "Answer :- String is on of the datatype of the Python, anything whether integer, float or alphabets confined under qoute is considered as string where as Variable act as container in which the all type of data type is stored."
   ]
  },
  {
   "cell_type": "markdown",
   "id": "284d9508",
   "metadata": {},
   "source": [
    "<b>Q3. Describe the three different data types.</b>"
   ]
  },
  {
   "cell_type": "markdown",
   "id": "5460cac7",
   "metadata": {},
   "source": [
    "Three different data types are :  \n",
    "Integer(int): It consist of whole numbers   \n",
    "Float : It consist of decimal numbers eg. 9.0,9.999  \n",
    "String(str): It consist of anything written under double or single quote eg.\"Ram\",\"7\".'7.7'  \n"
   ]
  },
  {
   "cell_type": "markdown",
   "id": "ed72c58a",
   "metadata": {},
   "source": [
    "<b>Q4. What is expression made up of? What do all expression do?</b>"
   ]
  },
  {
   "cell_type": "markdown",
   "id": "6a771ace",
   "metadata": {},
   "source": [
    "Answer : Expression refers to piece of code that can be evaluated to a value and it is composed of operators , variables, function calls and literals eg. 5+3 , 7*76 , 5>9 etc\n",
    "    5+3 = 8 results in 8 whereas 5 >9 gives output False \n",
    "    \n",
    "    Expression always yield an output"
   ]
  },
  {
   "cell_type": "markdown",
   "id": "5533742e",
   "metadata": {},
   "source": [
    "<b> Q5.  The assignment statements,like spam =10.What is the difference between an expression and a statement?</b>"
   ]
  },
  {
   "cell_type": "markdown",
   "id": "cb726543",
   "metadata": {},
   "source": [
    "Answer : Expression refers to  piece of code that can be evaluated to a value and it is composed of operators , variables, function calls and literals eg. 5+3 , 7*76 , 5>9 etc  \n",
    "Statement refers to a piece of code that executes a specific instruction to tell the computer to complete the task.\n",
    "x=20 , import pandas as pd etc  due to statements property of not yeilding a value,statements are usually of the type void."
   ]
  },
  {
   "cell_type": "markdown",
   "id": "f65daca2",
   "metadata": {},
   "source": [
    "<b>Q6. After running the code,what does the variable bacon contain?  \n",
    "bacon = 22  \n",
    "bacon+1 </b>"
   ]
  },
  {
   "cell_type": "markdown",
   "id": "8d137382",
   "metadata": {},
   "source": [
    "Answer : bacon = 22\n",
    "    bacon+1 \n",
    "bacon = 23"
   ]
  },
  {
   "cell_type": "code",
   "execution_count": 4,
   "id": "01b227dd",
   "metadata": {},
   "outputs": [
    {
     "data": {
      "text/plain": [
       "23"
      ]
     },
     "execution_count": 4,
     "metadata": {},
     "output_type": "execute_result"
    }
   ],
   "source": [
    "bacon = 22\n",
    "bacon+1"
   ]
  },
  {
   "cell_type": "markdown",
   "id": "2cf95b2b",
   "metadata": {},
   "source": [
    "<b>Q7. What should the values of the following two terms be?  \n",
    "'spam' + 'spamspam'  \n",
    "'spam'*3 </b>"
   ]
  },
  {
   "cell_type": "markdown",
   "id": "16533708",
   "metadata": {},
   "source": [
    "Solution : 'spam' + 'spamspam'=='spamspamspam'  \n",
    "'spam'*3 == spamspamspam"
   ]
  },
  {
   "cell_type": "code",
   "execution_count": 6,
   "id": "ec1f9a7a",
   "metadata": {},
   "outputs": [
    {
     "data": {
      "text/plain": [
       "'spamspamspam'"
      ]
     },
     "execution_count": 6,
     "metadata": {},
     "output_type": "execute_result"
    }
   ],
   "source": [
    "'spam' + 'spamspam'\n",
    "\n"
   ]
  },
  {
   "cell_type": "code",
   "execution_count": 7,
   "id": "d0e46cb3",
   "metadata": {},
   "outputs": [
    {
     "data": {
      "text/plain": [
       "'spamspamspam'"
      ]
     },
     "execution_count": 7,
     "metadata": {},
     "output_type": "execute_result"
    }
   ],
   "source": [
    "'spam'*3"
   ]
  },
  {
   "cell_type": "markdown",
   "id": "964eb488",
   "metadata": {},
   "source": [
    "<b>Q8. Why is eggs a valid variable name while 100 is invalid?</b>"
   ]
  },
  {
   "cell_type": "markdown",
   "id": "55660a87",
   "metadata": {},
   "source": [
    " Answer : In Python  variable name must start with a letter or the underscore character and it can't start with a number that's why eggs is vald variable but 100 is not."
   ]
  },
  {
   "cell_type": "markdown",
   "id": "1ba5179d",
   "metadata": {},
   "source": [
    "<b>Q9. What three function can be used to get the integer,floating-point number,or string  version of a value?</b>"
   ]
  },
  {
   "cell_type": "markdown",
   "id": "b3d1f186",
   "metadata": {},
   "source": [
    "Answer: Function to get integer is int(), for float it is float() and for string it is str()"
   ]
  },
  {
   "cell_type": "markdown",
   "id": "63d707fd",
   "metadata": {},
   "source": [
    "<b>Q10. Why does this expression cause an error?How can you fix it?  \n",
    "'I have eaten'+99+'burritos.'</b>"
   ]
  },
  {
   "cell_type": "markdown",
   "id": "a5d713c4",
   "metadata": {},
   "source": [
    "Answer : The above given expression cause error because you ca add integer type with string in order to correct it we will change 99 as string type \n",
    "    either using quote or typecasting str(99)."
   ]
  },
  {
   "cell_type": "code",
   "execution_count": 10,
   "id": "e4b99eea",
   "metadata": {},
   "outputs": [
    {
     "data": {
      "text/plain": [
       "'I have eaten99burritos.'"
      ]
     },
     "execution_count": 10,
     "metadata": {},
     "output_type": "execute_result"
    }
   ],
   "source": [
    "'I have eaten'+str(99)+'burritos.'"
   ]
  },
  {
   "cell_type": "code",
   "execution_count": 11,
   "id": "8dbf27b8",
   "metadata": {},
   "outputs": [
    {
     "data": {
      "text/plain": [
       "'I have eaten99burritos.'"
      ]
     },
     "execution_count": 11,
     "metadata": {},
     "output_type": "execute_result"
    }
   ],
   "source": [
    "'I have eaten'+'99'+'burritos.'"
   ]
  },
  {
   "cell_type": "code",
   "execution_count": null,
   "id": "a382715d",
   "metadata": {},
   "outputs": [],
   "source": []
  }
 ],
 "metadata": {
  "kernelspec": {
   "display_name": "Python 3 (ipykernel)",
   "language": "python",
   "name": "python3"
  },
  "language_info": {
   "codemirror_mode": {
    "name": "ipython",
    "version": 3
   },
   "file_extension": ".py",
   "mimetype": "text/x-python",
   "name": "python",
   "nbconvert_exporter": "python",
   "pygments_lexer": "ipython3",
   "version": "3.9.12"
  }
 },
 "nbformat": 4,
 "nbformat_minor": 5
}
