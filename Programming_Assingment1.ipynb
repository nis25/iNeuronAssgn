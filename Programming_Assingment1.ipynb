{
 "cells": [
  {
   "cell_type": "markdown",
   "id": "f86d9424",
   "metadata": {},
   "source": [
    "## Programming Assignment 1"
   ]
  },
  {
   "cell_type": "markdown",
   "id": "aca2f122",
   "metadata": {},
   "source": [
    "<b> 1.Write a Python program to print \"Hello Python\"? </b>"
   ]
  },
  {
   "cell_type": "code",
   "execution_count": 2,
   "id": "6d10a70e",
   "metadata": {},
   "outputs": [
    {
     "name": "stdout",
     "output_type": "stream",
     "text": [
      "Hello Python\n"
     ]
    }
   ],
   "source": [
    "print(\"Hello Python\")"
   ]
  },
  {
   "cell_type": "markdown",
   "id": "be2b149b",
   "metadata": {},
   "source": [
    "<b> 2.Write a Python program to do arithmetical operations addition and division.?</b>"
   ]
  },
  {
   "cell_type": "code",
   "execution_count": 3,
   "id": "f4ad5799",
   "metadata": {},
   "outputs": [
    {
     "name": "stdout",
     "output_type": "stream",
     "text": [
      "Enter a number2\n",
      "Enter a number:4\n",
      "6\n",
      "0.5\n"
     ]
    }
   ],
   "source": [
    "a= int(input(\"Enter a number\"))\n",
    "b= int(input(\"Enter a number:\"))\n",
    "sum = a+b\n",
    "div = a/b\n",
    "print(sum)\n",
    "print(div)"
   ]
  },
  {
   "cell_type": "markdown",
   "id": "31dfe107",
   "metadata": {},
   "source": [
    "<b> 3.\tWrite a Python program to find the area of a triangle?</b>"
   ]
  },
  {
   "cell_type": "code",
   "execution_count": 5,
   "id": "d2f4d0b8",
   "metadata": {},
   "outputs": [
    {
     "name": "stdout",
     "output_type": "stream",
     "text": [
      "Enter first side of triangle:3\n",
      "Enter first side of triangle:4\n",
      "Enter first side of triangle:5\n",
      "6.0\n"
     ]
    }
   ],
   "source": [
    "a=int(input(\"Enter first side of triangle:\"))\n",
    "b=int(input(\"Enter first side of triangle:\"))\n",
    "c=int(input(\"Enter first side of triangle:\"))\n",
    "s= (a+b+c)/2\n",
    "area = (s*(s-a)*(s-b)*(s-c))**0.5\n",
    "print(area)"
   ]
  },
  {
   "cell_type": "markdown",
   "id": "d202001b",
   "metadata": {},
   "source": [
    "<b>4.\tWrite a Python program to swap two variables?</b>"
   ]
  },
  {
   "cell_type": "code",
   "execution_count": 8,
   "id": "c8e15319",
   "metadata": {},
   "outputs": [
    {
     "name": "stdout",
     "output_type": "stream",
     "text": [
      "First number:4\n",
      "Second number:5\n",
      "5\n",
      "4\n"
     ]
    }
   ],
   "source": [
    "a=input(\"First number:\")\n",
    "b=input(\"Second number:\")\n",
    "a,b=b,a\n",
    "print(a)\n",
    "print(b)"
   ]
  },
  {
   "cell_type": "markdown",
   "id": "9111c59e",
   "metadata": {},
   "source": [
    "<b>5.\tWrite a Python program to generate a random number?</b>"
   ]
  },
  {
   "cell_type": "code",
   "execution_count": 9,
   "id": "133404e8",
   "metadata": {},
   "outputs": [
    {
     "name": "stdout",
     "output_type": "stream",
     "text": [
      "Enter a number:6\n",
      "Enter a number:90\n",
      "62\n"
     ]
    }
   ],
   "source": [
    "a= int(input(\"Enter a number:\"))\n",
    "b= int(input(\"Enter a number:\"))\n",
    "import random as r\n",
    "print(r.randint(a,b))"
   ]
  },
  {
   "cell_type": "code",
   "execution_count": null,
   "id": "5dce4229",
   "metadata": {},
   "outputs": [],
   "source": []
  }
 ],
 "metadata": {
  "kernelspec": {
   "display_name": "Python 3 (ipykernel)",
   "language": "python",
   "name": "python3"
  },
  "language_info": {
   "codemirror_mode": {
    "name": "ipython",
    "version": 3
   },
   "file_extension": ".py",
   "mimetype": "text/x-python",
   "name": "python",
   "nbconvert_exporter": "python",
   "pygments_lexer": "ipython3",
   "version": "3.9.12"
  }
 },
 "nbformat": 4,
 "nbformat_minor": 5
}
