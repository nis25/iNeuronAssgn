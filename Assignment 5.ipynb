{
 "cells": [
  {
   "cell_type": "markdown",
   "id": "e0bab715",
   "metadata": {},
   "source": [
    "## Assignment 5 ##"
   ]
  },
  {
   "cell_type": "markdown",
   "id": "00ed4921",
   "metadata": {},
   "source": [
    "<b> 1. What does an empty dictionary's code look like?</b>"
   ]
  },
  {
   "cell_type": "markdown",
   "id": "48838e2b",
   "metadata": {},
   "source": [
    "Empty dictionary will look like this {}."
   ]
  },
  {
   "cell_type": "markdown",
   "id": "eeb50610",
   "metadata": {},
   "source": [
    "<b>2. What is the value of a dictionary value with the key 'foo' and the value 42?</b>"
   ]
  },
  {
   "cell_type": "code",
   "execution_count": 3,
   "id": "5523a7b8",
   "metadata": {},
   "outputs": [
    {
     "data": {
      "text/plain": [
       "dict_values([42])"
      ]
     },
     "execution_count": 3,
     "metadata": {},
     "output_type": "execute_result"
    }
   ],
   "source": [
    "d = {'foo':42}\n",
    "d.values()"
   ]
  },
  {
   "cell_type": "markdown",
   "id": "e7a204bf",
   "metadata": {},
   "source": [
    "<b>3. What is the most significant distinction between a dictionary and a list?</b>"
   ]
  },
  {
   "cell_type": "markdown",
   "id": "a26423d1",
   "metadata": {},
   "source": [
    "Dictionary uses key and value concept as well it's unordered list doesn't uses key and value concept and it is ordered."
   ]
  },
  {
   "cell_type": "markdown",
   "id": "ae6e027f",
   "metadata": {},
   "source": [
    "<b>4. What happens if you try to access spam['foo'] if spam is {'bar': 100}?</b>"
   ]
  },
  {
   "cell_type": "code",
   "execution_count": 6,
   "id": "1902c300",
   "metadata": {},
   "outputs": [
    {
     "ename": "KeyError",
     "evalue": "'foo'",
     "output_type": "error",
     "traceback": [
      "\u001b[1;31m---------------------------------------------------------------------------\u001b[0m",
      "\u001b[1;31mKeyError\u001b[0m                                  Traceback (most recent call last)",
      "Input \u001b[1;32mIn [6]\u001b[0m, in \u001b[0;36m<cell line: 2>\u001b[1;34m()\u001b[0m\n\u001b[0;32m      1\u001b[0m spam \u001b[38;5;241m=\u001b[39m {\u001b[38;5;124m'\u001b[39m\u001b[38;5;124mbar\u001b[39m\u001b[38;5;124m'\u001b[39m: \u001b[38;5;241m100\u001b[39m,\u001b[38;5;124m'\u001b[39m\u001b[38;5;124mcat\u001b[39m\u001b[38;5;124m'\u001b[39m:\u001b[38;5;241m300\u001b[39m}\n\u001b[1;32m----> 2\u001b[0m \u001b[43mspam\u001b[49m\u001b[43m[\u001b[49m\u001b[38;5;124;43m'\u001b[39;49m\u001b[38;5;124;43mfoo\u001b[39;49m\u001b[38;5;124;43m'\u001b[39;49m\u001b[43m]\u001b[49m\n",
      "\u001b[1;31mKeyError\u001b[0m: 'foo'"
     ]
    }
   ],
   "source": [
    "spam = {'bar': 100,'cat':300}\n",
    "spam['foo']\n"
   ]
  },
  {
   "cell_type": "markdown",
   "id": "932a96b9",
   "metadata": {},
   "source": [
    "so as shown above it will give us KeyError."
   ]
  },
  {
   "cell_type": "markdown",
   "id": "3d28430e",
   "metadata": {},
   "source": [
    "<b>5. If a dictionary is stored in spam, what is the difference between the expressions 'cat' in spam and 'cat' in spam.keys()?</b>"
   ]
  },
  {
   "cell_type": "code",
   "execution_count": 5,
   "id": "0ed83ac1",
   "metadata": {},
   "outputs": [
    {
     "data": {
      "text/plain": [
       "dict_keys(['bar'])"
      ]
     },
     "execution_count": 5,
     "metadata": {},
     "output_type": "execute_result"
    }
   ],
   "source": [
    " spam.keys()"
   ]
  },
  {
   "cell_type": "markdown",
   "id": "811eacbd",
   "metadata": {},
   "source": [
    "cat in spam shows if there is any  key with name cat present in  spam  dictionary and spam.keys() will return the all the keys present in spam. "
   ]
  },
  {
   "cell_type": "markdown",
   "id": "fa3b7eef",
   "metadata": {},
   "source": [
    "<b> 6. If a dictionary is stored in spam, what is the difference between the expressions 'cat' in spam and 'cat' in spam.values()?</b>"
   ]
  },
  {
   "cell_type": "markdown",
   "id": "ed040f3c",
   "metadata": {},
   "source": [
    "cat in spam shows if there is any key with name cat present in spam dictionary and spam.values () will return the all the  values present in spam."
   ]
  },
  {
   "cell_type": "code",
   "execution_count": 7,
   "id": "07f59873",
   "metadata": {},
   "outputs": [
    {
     "data": {
      "text/plain": [
       "dict_values([100, 300])"
      ]
     },
     "execution_count": 7,
     "metadata": {},
     "output_type": "execute_result"
    }
   ],
   "source": [
    "spam.values()"
   ]
  },
  {
   "cell_type": "markdown",
   "id": "f5914d4d",
   "metadata": {},
   "source": [
    "<b>7. What is a shortcut for the following code?  \n",
    "if 'color' not in spam:  \n",
    "spam['color'] = 'black'  </b>\n"
   ]
  },
  {
   "cell_type": "code",
   "execution_count": 9,
   "id": "109a8964",
   "metadata": {},
   "outputs": [
    {
     "data": {
      "text/plain": [
       "'black'"
      ]
     },
     "execution_count": 9,
     "metadata": {},
     "output_type": "execute_result"
    }
   ],
   "source": [
    "spam.setdefault('color', 'black')"
   ]
  },
  {
   "cell_type": "markdown",
   "id": "d984608e",
   "metadata": {},
   "source": [
    "<b>8. How do you \"pretty print\" dictionary values using which module and function?</b>"
   ]
  },
  {
   "cell_type": "code",
   "execution_count": 14,
   "id": "2cad46d5",
   "metadata": {},
   "outputs": [
    {
     "name": "stdout",
     "output_type": "stream",
     "text": [
      "{'bar': 100, 'cat': 300}\n"
     ]
    }
   ],
   "source": [
    "import pprint\n",
    "spam = {'bar': 100,'cat':300}\n",
    "pprint.pprint(spam)\n",
    "\n"
   ]
  },
  {
   "cell_type": "code",
   "execution_count": null,
   "id": "21ff7d96",
   "metadata": {},
   "outputs": [],
   "source": []
  }
 ],
 "metadata": {
  "kernelspec": {
   "display_name": "Python 3 (ipykernel)",
   "language": "python",
   "name": "python3"
  },
  "language_info": {
   "codemirror_mode": {
    "name": "ipython",
    "version": 3
   },
   "file_extension": ".py",
   "mimetype": "text/x-python",
   "name": "python",
   "nbconvert_exporter": "python",
   "pygments_lexer": "ipython3",
   "version": "3.9.12"
  }
 },
 "nbformat": 4,
 "nbformat_minor": 5
}
