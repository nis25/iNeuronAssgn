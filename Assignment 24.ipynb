{
 "cells": [
  {
   "cell_type": "markdown",
   "id": "5762dc9c",
   "metadata": {},
   "source": [
    "# Assignment 24"
   ]
  },
  {
   "cell_type": "markdown",
   "id": "4a8cc31b",
   "metadata": {},
   "source": [
    "### 1. What is the relationship between def statements and lambda expressions ?"
   ]
  },
  {
   "cell_type": "markdown",
   "id": "d0a9a92f",
   "metadata": {},
   "source": [
    "def statement is used for multiple expression whereas lambda is uniexpression function. def gives name to the function which is used later to call the function , whereas lambda function forms  a function object and returns it."
   ]
  },
  {
   "cell_type": "markdown",
   "id": "e36b96fa",
   "metadata": {},
   "source": [
    "### 2. What is the benefit of lambda?"
   ]
  },
  {
   "cell_type": "markdown",
   "id": "2f6c33a2",
   "metadata": {},
   "source": [
    "1.Using lambda function, you can define a function and call it immediately at the end of definition.  \n",
    "2.They are generally used when a function is needed temporarily for a short period of time, often to be used inside another function such as filter, map and reduce.  \n",
    "3.Lambda functions reduce the number of lines of code   "
   ]
  },
  {
   "cell_type": "markdown",
   "id": "6427095d",
   "metadata": {},
   "source": [
    "### 3. Compare and contrast map, filter, and reduce."
   ]
  },
  {
   "cell_type": "markdown",
   "id": "b8074406",
   "metadata": {},
   "source": [
    "The filter() function in Python takes in a function and a list as arguments. This offers an elegant way to filter out all the elements of a sequence “sequence”, for which the function returns True.  \n",
    "The map() function in Python takes in a function and a list as an argument. The function is called with a lambda function and a list and a new list is returned which contains all the lambda modified items returned by that function for each item.  \n",
    "The reduce() function in Python takes in a function and a list as an argument. The function is called with a lambda function and an iterable and a new reduced result is returned.  "
   ]
  },
  {
   "cell_type": "code",
   "execution_count": 8,
   "id": "a7682558",
   "metadata": {},
   "outputs": [
    {
     "name": "stdout",
     "output_type": "stream",
     "text": [
      "[22, 54, 62]\n",
      "[10, 14, 44, 194, 108, 124, 154, 46, 146, 122]\n",
      "481\n"
     ]
    }
   ],
   "source": [
    "# To filter out the even number \n",
    "l = [5, 7, 22, 97, 54, 62, 77, 23, 73, 61]\n",
    " \n",
    "final_list = list(filter(lambda x: (x % 2 == 0), l))\n",
    "\n",
    "final_list_1 = list(map(lambda x: x*2, l))\n",
    "print(final_list)\n",
    "print(final_list_1)\n",
    "from functools import reduce\n",
    "sum = reduce((lambda x, y: x + y), l)\n",
    "print(sum)\n"
   ]
  },
  {
   "cell_type": "markdown",
   "id": "38fe590d",
   "metadata": {},
   "source": [
    "### 4. What are function annotations, and how are they used?"
   ]
  },
  {
   "cell_type": "markdown",
   "id": "34d062ae",
   "metadata": {},
   "source": [
    "Function annotations are arbitrary python expressions that are associated with various part of functions.\n",
    "def foo(x: expression, y: expression = 20):"
   ]
  },
  {
   "cell_type": "markdown",
   "id": "07ec24c1",
   "metadata": {},
   "source": [
    "### 5. What are recursive functions, and how are they used?"
   ]
  },
  {
   "cell_type": "markdown",
   "id": "ba8b70c9",
   "metadata": {},
   "source": [
    "Recursive function can be defined as a routine that calls itself directly or indirectly."
   ]
  },
  {
   "cell_type": "code",
   "execution_count": null,
   "id": "84efee67",
   "metadata": {},
   "outputs": [],
   "source": []
  }
 ],
 "metadata": {
  "kernelspec": {
   "display_name": "Python 3 (ipykernel)",
   "language": "python",
   "name": "python3"
  },
  "language_info": {
   "codemirror_mode": {
    "name": "ipython",
    "version": 3
   },
   "file_extension": ".py",
   "mimetype": "text/x-python",
   "name": "python",
   "nbconvert_exporter": "python",
   "pygments_lexer": "ipython3",
   "version": "3.9.12"
  }
 },
 "nbformat": 4,
 "nbformat_minor": 5
}
