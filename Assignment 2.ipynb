{
 "cells": [
  {
   "cell_type": "markdown",
   "id": "ad5fa9bd",
   "metadata": {},
   "source": [
    "## Assignment 2"
   ]
  },
  {
   "cell_type": "markdown",
   "id": "501256f8",
   "metadata": {},
   "source": [
    "<b> 1.What are the two values of the Boolean data type? How do you write them?</b>"
   ]
  },
  {
   "cell_type": "markdown",
   "id": "898d8fd2",
   "metadata": {},
   "source": [
    "Two values of Boolean data type is True and False and it is written with capital first letter and followed by lower case."
   ]
  },
  {
   "cell_type": "markdown",
   "id": "2671da4b",
   "metadata": {},
   "source": [
    "<b>2. What are the three different types of Boolean operators?</b>"
   ]
  },
  {
   "cell_type": "markdown",
   "id": "707bd679",
   "metadata": {},
   "source": [
    "Three different type of Boolean operators are : and , or and not."
   ]
  },
  {
   "cell_type": "markdown",
   "id": "ca279279",
   "metadata": {},
   "source": [
    "<b>3. Make a list of each Boolean operator&#39;s truth tables (i.e. every possible combination of Boolean\n",
    "values for the operator and what it evaluate ).</b>"
   ]
  },
  {
   "cell_type": "markdown",
   "id": "db057e48",
   "metadata": {},
   "source": [
    "True = T and False = F   \n",
    "AND table  :  \n",
    "    T + T == T  \n",
    "    T + F == F  \n",
    "    F + T == F  \n",
    "    F + F == T    \n",
    "OR table  \n",
    "    T + T == T  \n",
    "    T + F == T  \n",
    "    F + T == T  \n",
    "    F + F == F  \n",
    "Not table   \n",
    "   not F ==T   \n",
    "   not T == F  \n",
    "Here \"+\" is used to add two different condition."
   ]
  },
  {
   "cell_type": "markdown",
   "id": "ab073f95",
   "metadata": {},
   "source": [
    "<b>4. What are the values of the following expressions?  \n",
    "(5 &gt; 4) and (3 == 5)  \n",
    "not (5 &gt; 4)  \n",
    "(5 &gt; 4) or (3 == 5)  \n",
    "not ((5 &gt; 4) or (3 == 5))  \n",
    "(True and True) and (True == False)  \n",
    "(not False) or (not True)  </b>"
   ]
  },
  {
   "cell_type": "code",
   "execution_count": 2,
   "id": "300d3553",
   "metadata": {},
   "outputs": [
    {
     "data": {
      "text/plain": [
       "False"
      ]
     },
     "execution_count": 2,
     "metadata": {},
     "output_type": "execute_result"
    }
   ],
   "source": [
    "(5 > 4) and (3 == 5)"
   ]
  },
  {
   "cell_type": "code",
   "execution_count": 3,
   "id": "dafdfb2c",
   "metadata": {},
   "outputs": [
    {
     "data": {
      "text/plain": [
       "False"
      ]
     },
     "execution_count": 3,
     "metadata": {},
     "output_type": "execute_result"
    }
   ],
   "source": [
    "not (5 > 4)"
   ]
  },
  {
   "cell_type": "code",
   "execution_count": 4,
   "id": "1aa36a5a",
   "metadata": {},
   "outputs": [
    {
     "data": {
      "text/plain": [
       "True"
      ]
     },
     "execution_count": 4,
     "metadata": {},
     "output_type": "execute_result"
    }
   ],
   "source": [
    "(5 > 4) or (3 == 5)"
   ]
  },
  {
   "cell_type": "code",
   "execution_count": 5,
   "id": "2b56534b",
   "metadata": {},
   "outputs": [
    {
     "data": {
      "text/plain": [
       "False"
      ]
     },
     "execution_count": 5,
     "metadata": {},
     "output_type": "execute_result"
    }
   ],
   "source": [
    "not ((5 > 4) or (3 == 5))"
   ]
  },
  {
   "cell_type": "code",
   "execution_count": 6,
   "id": "7c2bf98e",
   "metadata": {},
   "outputs": [
    {
     "data": {
      "text/plain": [
       "False"
      ]
     },
     "execution_count": 6,
     "metadata": {},
     "output_type": "execute_result"
    }
   ],
   "source": [
    "(True and True) and (True == False)"
   ]
  },
  {
   "cell_type": "code",
   "execution_count": 7,
   "id": "a6ec21f4",
   "metadata": {},
   "outputs": [
    {
     "data": {
      "text/plain": [
       "True"
      ]
     },
     "execution_count": 7,
     "metadata": {},
     "output_type": "execute_result"
    }
   ],
   "source": [
    "(not False) or (not True)"
   ]
  },
  {
   "cell_type": "markdown",
   "id": "7908161b",
   "metadata": {},
   "source": [
    "<b> 5. What are the six comparison operators?</b>"
   ]
  },
  {
   "cell_type": "markdown",
   "id": "cacb88ec",
   "metadata": {},
   "source": [
    "Six comparison operators are:  \n",
    "1.> Greater than  \n",
    "2.>= Greater equal   \n",
    "3. < Smaller  \n",
    "4. <= Smaller than  \n",
    "5. ! = Not   \n",
    "6. == Equal to "
   ]
  },
  {
   "cell_type": "markdown",
   "id": "c86530e0",
   "metadata": {},
   "source": [
    "<b>6. How do you tell the difference between the equal to and assignment operators?Describe a\n",
    "condition and when you would use one.</b>"
   ]
  },
  {
   "cell_type": "markdown",
   "id": "5f2ec5d4",
   "metadata": {},
   "source": [
    "== Equal to Assignment it is used to compare two values and give output in boolean whereas, = is assignment operator it  is used to assign value to variable."
   ]
  },
  {
   "cell_type": "markdown",
   "id": "738aafb4",
   "metadata": {},
   "source": [
    "<b> 7. Identify the three blocks in this code:  \n",
    "spam = 0  \n",
    "if spam == 10:  \n",
    "print(eggs)  \n",
    "if spam > 5:  \n",
    "print(bacon) \n",
    "else:  \n",
    "print(ham)  \n",
    "print(spam)  \n",
    "print(spam)  </b>"
   ]
  },
  {
   "cell_type": "markdown",
   "id": "1222513d",
   "metadata": {},
   "source": [
    "spam = 0  \n",
    "if spam == 10:## Block1  \n",
    "    print(eggs)   \n",
    "if spam > 5:  \n",
    "    print('bacon') ## Block 2  \n",
    "else:  \n",
    "    print('ham') ## Block3  \n",
    "print('spam')## Block1  \n",
    "print('spam')## Block1  "
   ]
  },
  {
   "cell_type": "markdown",
   "id": "39669bf0",
   "metadata": {},
   "source": [
    "<b>8. Write code that prints Hello if 1 is stored in spam, prints Howdy if 2 is stored in spam, and prints\n",
    "Greetings! if anything else is stored in spam.</b>"
   ]
  },
  {
   "cell_type": "code",
   "execution_count": 10,
   "id": "79069716",
   "metadata": {},
   "outputs": [
    {
     "name": "stdout",
     "output_type": "stream",
     "text": [
      "Type any number:2\n",
      "Howdy\n"
     ]
    }
   ],
   "source": [
    "spam = int(input(\"Type any number:\"))\n",
    "if spam ==1:\n",
    "    print(\"Hello\")\n",
    "elif spam == 2:\n",
    "    print(\"Howdy\")\n",
    "else:\n",
    "    print(\"Greetings!\")"
   ]
  },
  {
   "cell_type": "markdown",
   "id": "605d7796",
   "metadata": {},
   "source": [
    "<b>9.If your programme is stuck in an endless loop, what keys you’ll press?</b>"
   ]
  },
  {
   "cell_type": "markdown",
   "id": "21ce69d6",
   "metadata": {},
   "source": [
    "Cntrl+C to break the loop."
   ]
  },
  {
   "cell_type": "markdown",
   "id": "d1751a66",
   "metadata": {},
   "source": [
    "<b>10. How can you tell the difference between break and continue? </b>"
   ]
  },
  {
   "cell_type": "markdown",
   "id": "723c08a0",
   "metadata": {},
   "source": [
    "break is used to exit loop as it moves the execution outside the loop but as continue is used to continue the execution from the start"
   ]
  },
  {
   "cell_type": "markdown",
   "id": "f8f48313",
   "metadata": {},
   "source": [
    "<b>11. In a for loop, what is the difference between range(10), range(0, 10), and range(0, 10, 1)? </b>"
   ]
  },
  {
   "cell_type": "markdown",
   "id": "d7d0d74f",
   "metadata": {},
   "source": [
    "Range (10) is used to call ranges from 0 to upto 10(given),range(0,10) here it specifically asked to start the range from 0 upto 10 and range(0,10,1) it starts the range from 0 upto 10 by icreasing the variable by 1 after each iteration."
   ]
  },
  {
   "cell_type": "markdown",
   "id": "4aaa2274",
   "metadata": {},
   "source": [
    "<b>12. Write a short program that prints the numbers 1 to 10 using a for loop. Then write an equivalent\n",
    "program that prints the numbers 1 to 10 using a while loop. </b>"
   ]
  },
  {
   "cell_type": "code",
   "execution_count": 11,
   "id": "c5253763",
   "metadata": {},
   "outputs": [
    {
     "name": "stdout",
     "output_type": "stream",
     "text": [
      "1\n",
      "2\n",
      "3\n",
      "4\n",
      "5\n",
      "6\n",
      "7\n",
      "8\n",
      "9\n",
      "10\n"
     ]
    }
   ],
   "source": [
    "for i in range (1,11):\n",
    "    print(i)"
   ]
  },
  {
   "cell_type": "code",
   "execution_count": null,
   "id": "fe782870",
   "metadata": {},
   "outputs": [],
   "source": [
    "j= 1\n",
    "while j <=10:\n",
    "    print(j)\n",
    "    j=j+1\n",
    "    break"
   ]
  },
  {
   "cell_type": "markdown",
   "id": "5dd91ff5",
   "metadata": {},
   "source": [
    "<b> 13. If you had a function named bacon() inside a module named spam, how would you call it after\n",
    "importing spam?</b>"
   ]
  },
  {
   "cell_type": "markdown",
   "id": "4771ebb4",
   "metadata": {},
   "source": [
    "spam.bacon()"
   ]
  },
  {
   "cell_type": "code",
   "execution_count": null,
   "id": "15bb8de7",
   "metadata": {},
   "outputs": [],
   "source": []
  }
 ],
 "metadata": {
  "kernelspec": {
   "display_name": "Python 3 (ipykernel)",
   "language": "python",
   "name": "python3"
  },
  "language_info": {
   "codemirror_mode": {
    "name": "ipython",
    "version": 3
   },
   "file_extension": ".py",
   "mimetype": "text/x-python",
   "name": "python",
   "nbconvert_exporter": "python",
   "pygments_lexer": "ipython3",
   "version": "3.9.12"
  }
 },
 "nbformat": 4,
 "nbformat_minor": 5
}
