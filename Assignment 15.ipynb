{
 "cells": [
  {
   "cell_type": "markdown",
   "id": "2cfa72b2",
   "metadata": {},
   "source": [
    "## Assignment 15"
   ]
  },
  {
   "cell_type": "markdown",
   "id": "586db08c",
   "metadata": {},
   "source": [
    "<b> 1.How many seconds are in an hour? Use the interactive interpreter as a calculator and multiply the number of seconds in a minute (60) by the number of minutes in an hour (also 60).</b>"
   ]
  },
  {
   "cell_type": "code",
   "execution_count": 7,
   "id": "2bf6e67a",
   "metadata": {},
   "outputs": [
    {
     "name": "stdout",
     "output_type": "stream",
     "text": [
      "Enter the hour6\n",
      "21600\n"
     ]
    }
   ],
   "source": [
    "hr=int(input(\"Enter the hour\"))\n",
    "min = hr*60\n",
    "\n",
    "sec_in_hour=60*min\n",
    "print(sec_in_hour)"
   ]
  },
  {
   "cell_type": "markdown",
   "id": "0ba9362e",
   "metadata": {},
   "source": [
    "<b> 2. Assign the result from the previous task (seconds in an hour) to a variable called\n",
    "seconds_per_hour.</b>"
   ]
  },
  {
   "cell_type": "code",
   "execution_count": 11,
   "id": "2959dafb",
   "metadata": {},
   "outputs": [
    {
     "data": {
      "text/plain": [
       "21600"
      ]
     },
     "execution_count": 11,
     "metadata": {},
     "output_type": "execute_result"
    }
   ],
   "source": [
    "seconds_per_hour = sec_in_hour\n",
    "seconds_per_hour"
   ]
  },
  {
   "cell_type": "markdown",
   "id": "0f7808a4",
   "metadata": {},
   "source": [
    "<b> 3. How many seconds do you think there are in a day? Make use of the variables seconds per hour\n",
    "and minutes per hour.</b>"
   ]
  },
  {
   "cell_type": "code",
   "execution_count": 23,
   "id": "994cb5c2",
   "metadata": {},
   "outputs": [
    {
     "name": "stdout",
     "output_type": "stream",
     "text": [
      "Enter the number of days that you want to see in sec: 2\n",
      "172800\n"
     ]
    }
   ],
   "source": [
    "days = int(input(\"Enter the number of days that you want to see in sec: \"))\n",
    "seconds_per_hour = 60\n",
    "min = 60\n",
    "secs_per_day = days*24*seconds_per_hour*min\n",
    "print(secs_per_day)"
   ]
  },
  {
   "cell_type": "markdown",
   "id": "da55b237",
   "metadata": {},
   "source": [
    "<b> 4. Calculate seconds per day again, but this time save the result in a variable called seconds_per_day</b>"
   ]
  },
  {
   "cell_type": "code",
   "execution_count": 25,
   "id": "dcb69f3c",
   "metadata": {},
   "outputs": [
    {
     "name": "stdout",
     "output_type": "stream",
     "text": [
      "Day1\n",
      "86400\n"
     ]
    }
   ],
   "source": [
    "days = int(input(\"Day\"))\n",
    "seconds_per_day= days*24*60*60\n",
    "print(seconds_per_day)"
   ]
  },
  {
   "cell_type": "markdown",
   "id": "ad2cea66",
   "metadata": {},
   "source": [
    "<b> 5. Divide seconds_per_day by seconds_per_hour. Use floating-point (/) division.</b>"
   ]
  },
  {
   "cell_type": "code",
   "execution_count": 26,
   "id": "b7ecb4d0",
   "metadata": {},
   "outputs": [
    {
     "data": {
      "text/plain": [
       "4.0"
      ]
     },
     "execution_count": 26,
     "metadata": {},
     "output_type": "execute_result"
    }
   ],
   "source": [
    "d = seconds_per_day/sec_in_hour\n",
    "d"
   ]
  },
  {
   "cell_type": "markdown",
   "id": "7d37b913",
   "metadata": {},
   "source": [
    "<b> 6. Divide seconds_per_day by seconds_per_hour, using integer (//) division. Did this number agree\n",
    "with the floating-point value from the previous question, aside from the final .0? </b>"
   ]
  },
  {
   "cell_type": "code",
   "execution_count": 27,
   "id": "56102f06",
   "metadata": {},
   "outputs": [
    {
     "data": {
      "text/plain": [
       "4"
      ]
     },
     "execution_count": 27,
     "metadata": {},
     "output_type": "execute_result"
    }
   ],
   "source": [
    "e = seconds_per_day//sec_in_hour\n",
    "e"
   ]
  },
  {
   "cell_type": "markdown",
   "id": "dfa59362",
   "metadata": {},
   "source": [
    "yes "
   ]
  },
  {
   "cell_type": "markdown",
   "id": "4500b264",
   "metadata": {},
   "source": [
    "<b> 7. Write a generator, genPrimes, that returns the sequence of prime numbers on successive calls to\n",
    "its next() method: 2, 3, 5, 7, 11, ... </b>"
   ]
  },
  {
   "cell_type": "code",
   "execution_count": 47,
   "id": "96afa860",
   "metadata": {},
   "outputs": [],
   "source": [
    "def genPrimes():\n",
    "    primes = []   \n",
    "    last = 1      \n",
    "    while True:\n",
    "        last += 1\n",
    "        for p in primes:\n",
    "            if last % p == 0:\n",
    "                break\n",
    "        else:\n",
    "            primes.append(last)\n",
    "            yield last\n",
    "\n",
    "p = genPrimes()"
   ]
  },
  {
   "cell_type": "code",
   "execution_count": 48,
   "id": "3362839d",
   "metadata": {},
   "outputs": [
    {
     "data": {
      "text/plain": [
       "2"
      ]
     },
     "execution_count": 48,
     "metadata": {},
     "output_type": "execute_result"
    }
   ],
   "source": [
    "next(p)"
   ]
  },
  {
   "cell_type": "code",
   "execution_count": 49,
   "id": "b0e64fb5",
   "metadata": {},
   "outputs": [
    {
     "data": {
      "text/plain": [
       "3"
      ]
     },
     "execution_count": 49,
     "metadata": {},
     "output_type": "execute_result"
    }
   ],
   "source": [
    "next(p)"
   ]
  },
  {
   "cell_type": "code",
   "execution_count": null,
   "id": "7a46ff6f",
   "metadata": {},
   "outputs": [],
   "source": []
  }
 ],
 "metadata": {
  "kernelspec": {
   "display_name": "Python 3 (ipykernel)",
   "language": "python",
   "name": "python3"
  },
  "language_info": {
   "codemirror_mode": {
    "name": "ipython",
    "version": 3
   },
   "file_extension": ".py",
   "mimetype": "text/x-python",
   "name": "python",
   "nbconvert_exporter": "python",
   "pygments_lexer": "ipython3",
   "version": "3.9.12"
  }
 },
 "nbformat": 4,
 "nbformat_minor": 5
}
