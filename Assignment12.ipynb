{
 "cells": [
  {
   "cell_type": "markdown",
   "id": "b1be3caa",
   "metadata": {},
   "source": [
    "## Assignment 12"
   ]
  },
  {
   "cell_type": "markdown",
   "id": "3c70fa7f",
   "metadata": {},
   "source": [
    "### 1. In what modes should the PdfFileReader() and PdfFileWriter() File objects will be opened?"
   ]
  },
  {
   "cell_type": "markdown",
   "id": "2d0357cc",
   "metadata": {},
   "source": [
    "Read-binary ('rb') for PdfFileReader() and write-binary ('wb') for PdfFileWriter()"
   ]
  },
  {
   "cell_type": "markdown",
   "id": "f976858b",
   "metadata": {},
   "source": [
    "### 2. From a PdfFileReader object, how do you get a Page object for page 5?"
   ]
  },
  {
   "cell_type": "markdown",
   "id": "95cd6f4f",
   "metadata": {},
   "source": [
    "By calling getpage(4) for page 5 as indexing start from 0."
   ]
  },
  {
   "cell_type": "markdown",
   "id": "5700fc76",
   "metadata": {},
   "source": [
    "### 3. What PdfFileReader variable stores the number of pages in the PDF document?"
   ]
  },
  {
   "cell_type": "markdown",
   "id": "acbf55a4",
   "metadata": {},
   "source": [
    "The numPages variable stores an integer of the number of pages in the PdfFileReader object."
   ]
  },
  {
   "cell_type": "markdown",
   "id": "dde2f6ba",
   "metadata": {},
   "source": [
    "### 4.If a PdfFileReader object’s PDF is encrypted with the password swordfish, what must you do before you can obtain Page objects from it?"
   ]
  },
  {
   "cell_type": "markdown",
   "id": "b1e3d998",
   "metadata": {},
   "source": [
    "By calling decrypt('swordfish')"
   ]
  },
  {
   "cell_type": "markdown",
   "id": "eecffd37",
   "metadata": {},
   "source": [
    "### 5. What methods do you use to rotate a page?"
   ]
  },
  {
   "cell_type": "markdown",
   "id": "fd53d355",
   "metadata": {},
   "source": [
    "Two methods to rotate a pages are : rotateClockwise() and rotateCounterClockwise()."
   ]
  },
  {
   "cell_type": "markdown",
   "id": "21c3aa5e",
   "metadata": {},
   "source": [
    "### 6. What is the difference between a Run object and a Paragraph object?"
   ]
  },
  {
   "cell_type": "markdown",
   "id": "25f512d9",
   "metadata": {},
   "source": [
    "A document contains multiple paragraphs. A paragraph begins on a new line and contains multiple runs whereas runs are contiguous groups of characters within a paragraph."
   ]
  },
  {
   "cell_type": "markdown",
   "id": "363e658c",
   "metadata": {},
   "source": [
    "### 7. How do you obtain a list of Paragraph objects for a Document object that’s stored in a variable named doc?"
   ]
  },
  {
   "cell_type": "markdown",
   "id": "07bf4a51",
   "metadata": {},
   "source": [
    "By using doc.paragraphs."
   ]
  },
  {
   "cell_type": "markdown",
   "id": "e574473a",
   "metadata": {},
   "source": [
    "### 8. What type of object has bold, underline, italic, strike, and outline variables?"
   ]
  },
  {
   "cell_type": "markdown",
   "id": "ccfa6b79",
   "metadata": {},
   "source": [
    "Run object has bold,underline,italic,strike and outline variables."
   ]
  },
  {
   "cell_type": "markdown",
   "id": "2477d025",
   "metadata": {},
   "source": [
    "### 9.What is the difference between False, True, and None for the bold variable?"
   ]
  },
  {
   "cell_type": "markdown",
   "id": "74316bdc",
   "metadata": {},
   "source": [
    "<b> True </b> always makes the run object bolded   \n",
    "<b> False </b> always makes it not bold  \n",
    "<b> None </b>  makes  the Run object just use the style’s bold setting."
   ]
  },
  {
   "cell_type": "markdown",
   "id": "19210bbf",
   "metadata": {},
   "source": [
    "### 10. How do you create a Document object for a new Word document?"
   ]
  },
  {
   "cell_type": "markdown",
   "id": "3dc1eee7",
   "metadata": {},
   "source": [
    "By calling the docx.Document() function."
   ]
  },
  {
   "cell_type": "markdown",
   "id": "d3aa8f4d",
   "metadata": {},
   "source": [
    "### 11. How do you add a paragraph with the text &#39;Hello, there!&#39; to a Document object stored in a variable named doc?"
   ]
  },
  {
   "cell_type": "markdown",
   "id": "d757c1cc",
   "metadata": {},
   "source": [
    "By using  <b> doc.add_paragraph('Hello there!')</b>"
   ]
  },
  {
   "cell_type": "markdown",
   "id": "b59f8364",
   "metadata": {},
   "source": [
    "### 12. What integers represent the levels of headings available in Word documents?"
   ]
  },
  {
   "cell_type": "markdown",
   "id": "f72000d7",
   "metadata": {},
   "source": [
    "The integers 0, 1, 2, 3, and 4 represents the levels of headings available in Word documents."
   ]
  },
  {
   "cell_type": "code",
   "execution_count": null,
   "id": "6673c2a4",
   "metadata": {},
   "outputs": [],
   "source": []
  }
 ],
 "metadata": {
  "kernelspec": {
   "display_name": "Python 3 (ipykernel)",
   "language": "python",
   "name": "python3"
  },
  "language_info": {
   "codemirror_mode": {
    "name": "ipython",
    "version": 3
   },
   "file_extension": ".py",
   "mimetype": "text/x-python",
   "name": "python",
   "nbconvert_exporter": "python",
   "pygments_lexer": "ipython3",
   "version": "3.9.12"
  }
 },
 "nbformat": 4,
 "nbformat_minor": 5
}
