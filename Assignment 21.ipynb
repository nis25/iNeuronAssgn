{
 "cells": [
  {
   "cell_type": "markdown",
   "id": "a7f321a0",
   "metadata": {},
   "source": [
    "## Assignment 21"
   ]
  },
  {
   "cell_type": "markdown",
   "id": "f8335fcb",
   "metadata": {},
   "source": [
    "<b> 1. Add the current date to the text file today.txt as a string.</b>\n",
    "\n"
   ]
  },
  {
   "cell_type": "code",
   "execution_count": 4,
   "id": "a9548af1",
   "metadata": {},
   "outputs": [],
   "source": [
    "from datetime import date\n",
    "now = date.today()\n",
    "now_str = now.isoformat()\n",
    "with open('today', 'wt') as output:\n",
    "    print(now_str, file=output)\n"
   ]
  },
  {
   "cell_type": "markdown",
   "id": "1b38d14f",
   "metadata": {},
   "source": [
    "<b>2. Read the text file today.txt into the string today_string</b>\n"
   ]
  },
  {
   "cell_type": "code",
   "execution_count": 2,
   "id": "c9669bca",
   "metadata": {},
   "outputs": [
    {
     "data": {
      "text/plain": [
       "'2023-05-18\\n'"
      ]
     },
     "execution_count": 2,
     "metadata": {},
     "output_type": "execute_result"
    }
   ],
   "source": [
    "with open('today', 'rt') as input:\n",
    "    today_string = input.read()\n",
    "today_string\n"
   ]
  },
  {
   "cell_type": "markdown",
   "id": "e74fc9f7",
   "metadata": {},
   "source": [
    "<b>3. Parse the date from today_string.</b>\n"
   ]
  },
  {
   "cell_type": "code",
   "execution_count": 11,
   "id": "b2a46249",
   "metadata": {},
   "outputs": [
    {
     "data": {
      "text/plain": [
       "datetime.datetime(2023, 5, 18, 0, 0)"
      ]
     },
     "execution_count": 11,
     "metadata": {},
     "output_type": "execute_result"
    }
   ],
   "source": [
    "from datetime import datetime\n",
    "fmt = '%Y-%m-%d\\n'\n",
    "datetime.strptime(today_string, fmt)\n",
    "\n"
   ]
  },
  {
   "cell_type": "markdown",
   "id": "e451f1e0",
   "metadata": {},
   "source": [
    "<b>4. List the files in your current directory</b>\n"
   ]
  },
  {
   "cell_type": "code",
   "execution_count": 9,
   "id": "8890d429",
   "metadata": {},
   "outputs": [
    {
     "data": {
      "text/plain": [
       "['bears', 'lions', 'tigers']"
      ]
     },
     "execution_count": 9,
     "metadata": {},
     "output_type": "execute_result"
    }
   ],
   "source": [
    "import os\n",
    "os.listdir('.')\n",
    "['bears', 'lions', 'tigers']"
   ]
  },
  {
   "cell_type": "markdown",
   "id": "ee1fd1f5",
   "metadata": {},
   "source": [
    "<b>5. Create a list of all of the files in your parent directory (minimum five files should be available).</b>\n"
   ]
  },
  {
   "cell_type": "code",
   "execution_count": 10,
   "id": "1bdae02c",
   "metadata": {},
   "outputs": [
    {
     "data": {
      "text/plain": [
       "['abc', 'All Users', 'Default', 'Default User', 'desktop.ini', 'Public']"
      ]
     },
     "execution_count": 10,
     "metadata": {},
     "output_type": "execute_result"
    }
   ],
   "source": [
    "import os\n",
    "os.listdir('..')\n"
   ]
  },
  {
   "cell_type": "markdown",
   "id": "97b63cad",
   "metadata": {},
   "source": [
    "<b>6. Use multiprocessing to create three separate processes. Make each one wait a random number of seconds between one and five, print the current time, and then exit.</b>\n"
   ]
  },
  {
   "cell_type": "code",
   "execution_count": 20,
   "id": "d1aa44e9",
   "metadata": {},
   "outputs": [],
   "source": [
    "import multiprocessing\n",
    "def now(seconds):\n",
    "    from datetime import datetime\n",
    "    from time import sleep\n",
    "    sleep(seconds)\n",
    "    print('wait', seconds, 'seconds, time is', datetime.utcnow())\n",
    "if __name__ == '__main__':\n",
    "    \n",
    "    import random\n",
    "    for n in range(3):\n",
    "        seconds = random.random()\n",
    "        proc = multiprocessing.Process(target=now, args=(seconds,))\n",
    "        proc.start()\n"
   ]
  },
  {
   "cell_type": "markdown",
   "id": "d88624fd",
   "metadata": {},
   "source": [
    "<b>7. Create a date object of your day of birth.</b>\n"
   ]
  },
  {
   "cell_type": "code",
   "execution_count": 21,
   "id": "364a81c8",
   "metadata": {},
   "outputs": [
    {
     "data": {
      "text/plain": [
       "datetime.date(1999, 10, 25)"
      ]
     },
     "execution_count": 21,
     "metadata": {},
     "output_type": "execute_result"
    }
   ],
   "source": [
    "dob = date(1999,10,25 )\n",
    "dob"
   ]
  },
  {
   "cell_type": "markdown",
   "id": "6eb48209",
   "metadata": {},
   "source": [
    "<b>8. What day of the week was your day of birth?</b>\n"
   ]
  },
  {
   "cell_type": "code",
   "execution_count": 22,
   "id": "fab75214",
   "metadata": {},
   "outputs": [
    {
     "data": {
      "text/plain": [
       "0"
      ]
     },
     "execution_count": 22,
     "metadata": {},
     "output_type": "execute_result"
    }
   ],
   "source": [
    "dob.weekday()\n"
   ]
  },
  {
   "cell_type": "markdown",
   "id": "c0626194",
   "metadata": {},
   "source": [
    "<b>9. When will you be (or when were you) 10,000 days old?</b>"
   ]
  },
  {
   "cell_type": "code",
   "execution_count": 23,
   "id": "b62d0a46",
   "metadata": {},
   "outputs": [
    {
     "data": {
      "text/plain": [
       "datetime.date(2027, 3, 12)"
      ]
     },
     "execution_count": 23,
     "metadata": {},
     "output_type": "execute_result"
    }
   ],
   "source": [
    "from datetime import timedelta\n",
    "thou_day = dob + timedelta(days=10000)\n",
    "thou_day"
   ]
  },
  {
   "cell_type": "code",
   "execution_count": null,
   "id": "99e5ff10",
   "metadata": {},
   "outputs": [],
   "source": []
  }
 ],
 "metadata": {
  "kernelspec": {
   "display_name": "Python 3 (ipykernel)",
   "language": "python",
   "name": "python3"
  },
  "language_info": {
   "codemirror_mode": {
    "name": "ipython",
    "version": 3
   },
   "file_extension": ".py",
   "mimetype": "text/x-python",
   "name": "python",
   "nbconvert_exporter": "python",
   "pygments_lexer": "ipython3",
   "version": "3.9.12"
  }
 },
 "nbformat": 4,
 "nbformat_minor": 5
}
