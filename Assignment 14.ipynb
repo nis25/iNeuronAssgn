{
 "cells": [
  {
   "cell_type": "markdown",
   "id": "dc3f56b8",
   "metadata": {},
   "source": [
    "## Assignment 14"
   ]
  },
  {
   "cell_type": "markdown",
   "id": "38422fb3",
   "metadata": {},
   "source": [
    "### 1. What does RGBA stand for?\n"
   ]
  },
  {
   "cell_type": "markdown",
   "id": "63d2f1bf",
   "metadata": {},
   "source": [
    "An RGBA value is a group of numbers that specify the amount of red, green, blue, and alpha (or transparency) in a color."
   ]
  },
  {
   "cell_type": "markdown",
   "id": "cb02f27a",
   "metadata": {},
   "source": [
    "### 2. From the Pillow module, how do you get the RGBA value of any images?\n"
   ]
  },
  {
   "cell_type": "markdown",
   "id": "c637ef57",
   "metadata": {},
   "source": [
    "A function call to ImageColor.getcolor('ImageName', 'RGBA')"
   ]
  },
  {
   "cell_type": "markdown",
   "id": "bb6921c0",
   "metadata": {},
   "source": [
    "### 3. What is a box tuple, and how does it work?\n"
   ]
  },
  {
   "cell_type": "markdown",
   "id": "d48316f6",
   "metadata": {},
   "source": [
    "A box tuple is a tuple value of four integers: the left-edge x-coordinate, the top-edge y-coordinate, the width, and the height, respectively."
   ]
  },
  {
   "cell_type": "markdown",
   "id": "445fe566",
   "metadata": {},
   "source": [
    "### 4. Use your image and load in notebook then, How can you find out the width and height of an Image object?\n"
   ]
  },
  {
   "cell_type": "code",
   "execution_count": 12,
   "id": "34ede869",
   "metadata": {},
   "outputs": [
    {
     "data": {
      "text/plain": [
       "(1914, 1169)"
      ]
     },
     "execution_count": 12,
     "metadata": {},
     "output_type": "execute_result"
    }
   ],
   "source": [
    "from PIL import Image\n",
    "import os\n",
    "img =Image.open(r'C:\\Users\\abc\\Pictures\\dhjbk.png')\n",
    "img.size"
   ]
  },
  {
   "cell_type": "markdown",
   "id": "d379e949",
   "metadata": {},
   "source": [
    "### 5. What method would you call to get Image object for a 100×100 image, excluding the lower-left quarter of it?\n"
   ]
  },
  {
   "cell_type": "code",
   "execution_count": 16,
   "id": "d46a4cda",
   "metadata": {},
   "outputs": [],
   "source": [
    "from PIL import Image\n",
    "import os\n",
    "img =Image.open(r'C:\\Users\\abc\\Pictures\\dhjbk.png')\n",
    "img.crop((0, 50, 50, 50))\n",
    "img.save('cropped.png')\n"
   ]
  },
  {
   "cell_type": "markdown",
   "id": "7a3553e9",
   "metadata": {},
   "source": [
    "### 6. After making changes to an Image object, how could you save it as an image file?\n"
   ]
  },
  {
   "cell_type": "markdown",
   "id": "df76362b",
   "metadata": {},
   "source": [
    "img.save('cropped.png')"
   ]
  },
  {
   "cell_type": "markdown",
   "id": "16de36ce",
   "metadata": {},
   "source": [
    "### 7. What module contains Pillow’s shape-drawing code?\n"
   ]
  },
  {
   "cell_type": "markdown",
   "id": "c6df78d1",
   "metadata": {},
   "source": [
    "ImageDraw module contains code to draw on images."
   ]
  },
  {
   "cell_type": "markdown",
   "id": "2f6dfe2a",
   "metadata": {},
   "source": [
    "### 8. Image objects do not have drawing methods. What kind of object does? How do you get this kind of object?"
   ]
  },
  {
   "cell_type": "markdown",
   "id": "6626294d",
   "metadata": {},
   "source": [
    "ImageDraw objects have shape-drawing methods such as point(), line(), or rectangle(). They are returned by passing the Image object to the ImageDraw.Draw() function."
   ]
  },
  {
   "cell_type": "code",
   "execution_count": null,
   "id": "079a9daa",
   "metadata": {},
   "outputs": [],
   "source": []
  }
 ],
 "metadata": {
  "kernelspec": {
   "display_name": "Python 3 (ipykernel)",
   "language": "python",
   "name": "python3"
  },
  "language_info": {
   "codemirror_mode": {
    "name": "ipython",
    "version": 3
   },
   "file_extension": ".py",
   "mimetype": "text/x-python",
   "name": "python",
   "nbconvert_exporter": "python",
   "pygments_lexer": "ipython3",
   "version": "3.9.12"
  }
 },
 "nbformat": 4,
 "nbformat_minor": 5
}
