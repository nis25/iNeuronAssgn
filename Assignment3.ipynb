{
 "cells": [
  {
   "cell_type": "markdown",
   "id": "b36fbf69",
   "metadata": {},
   "source": [
    "## Assignment 3"
   ]
  },
  {
   "cell_type": "markdown",
   "id": "a9dc54c4",
   "metadata": {},
   "source": [
    "<b> 1. Why are functions advantageous to have in your programs?</b>"
   ]
  },
  {
   "cell_type": "markdown",
   "id": "a6a95501",
   "metadata": {},
   "source": [
    "Function are advntageous as we don't need to write the same piece of code again and again we just simply call the function and get the work done for different arguments."
   ]
  },
  {
   "cell_type": "markdown",
   "id": "5442b165",
   "metadata": {},
   "source": [
    "<b>2. When does the code in a function run: when it's specified or when it's called?</b>"
   ]
  },
  {
   "cell_type": "markdown",
   "id": "e46e11d1",
   "metadata": {},
   "source": [
    "Function code only run when it's called."
   ]
  },
  {
   "cell_type": "markdown",
   "id": "65e607cd",
   "metadata": {},
   "source": [
    "<b>3. What statement creates a function?</b>"
   ]
  },
  {
   "cell_type": "markdown",
   "id": "b8edfcf6",
   "metadata": {},
   "source": [
    "We can create function in python using def function."
   ]
  },
  {
   "cell_type": "markdown",
   "id": "e62d150b",
   "metadata": {},
   "source": [
    "<b>4.What is the difference between a function and a function call?</b>"
   ]
  },
  {
   "cell_type": "markdown",
   "id": "aa29a938",
   "metadata": {},
   "source": [
    "Function is a piece of code which enhance reusability of code e.g. def add(a,b): return a+b\n",
    "Function call is used to call the function to perform that task. e.g add(4,3) returns 7 as output "
   ]
  },
  {
   "cell_type": "markdown",
   "id": "443b9390",
   "metadata": {},
   "source": [
    "<b>5. How many global scopes are there in a Python program? How many local scopes?</b>"
   ]
  },
  {
   "cell_type": "markdown",
   "id": "5f1a30e5",
   "metadata": {},
   "source": [
    "There is one global scope and local scope is created whenever the function is called."
   ]
  },
  {
   "cell_type": "markdown",
   "id": "fd048509",
   "metadata": {},
   "source": [
    "<b> 6. What happens to variables in a local scope when the function call returns?</b>"
   ]
  },
  {
   "cell_type": "markdown",
   "id": "30535d6e",
   "metadata": {},
   "source": [
    "Local variables expires when the function call returns."
   ]
  },
  {
   "cell_type": "markdown",
   "id": "5b3d96cc",
   "metadata": {},
   "source": [
    "<b>7. What is the concept of a return value? Is it possible to have a return value in an expression?</b>"
   ]
  },
  {
   "cell_type": "markdown",
   "id": "50627890",
   "metadata": {},
   "source": [
    "Return value is used to end the function call and returns the resultof the called function. Yes, it is possible to have a return value in an expression."
   ]
  },
  {
   "cell_type": "markdown",
   "id": "566a0ff9",
   "metadata": {},
   "source": [
    "<b> 8. If a function does not have a return statement, what is the return value of a call to that function?</b>"
   ]
  },
  {
   "cell_type": "markdown",
   "id": "68e23c62",
   "metadata": {},
   "source": [
    "If function doesn't have a return statement then it returns None."
   ]
  },
  {
   "cell_type": "markdown",
   "id": "4660c027",
   "metadata": {},
   "source": [
    "<b>9. How do you make a function variable refer to the global variable?</b>"
   ]
  },
  {
   "cell_type": "markdown",
   "id": "e44ec0ea",
   "metadata": {},
   "source": [
    "By using the global keyword to refer a function as global variable. e.g def fp():\n",
    "global b\n",
    "b= Hello!\n",
    "fp()\n",
    "print(\"Hi\"+b)\n"
   ]
  },
  {
   "cell_type": "markdown",
   "id": "4900a322",
   "metadata": {},
   "source": [
    "<b>10. What is the data type of None?</b>"
   ]
  },
  {
   "cell_type": "markdown",
   "id": "16d6661c",
   "metadata": {},
   "source": [
    "None type is data type of None."
   ]
  },
  {
   "cell_type": "markdown",
   "id": "f8a0b9fc",
   "metadata": {},
   "source": [
    "<b>11. What does the sentence import areallyourpetsnamederic do?</b>"
   ]
  },
  {
   "cell_type": "code",
   "execution_count": 4,
   "id": "6381cc6f",
   "metadata": {},
   "outputs": [
    {
     "ename": "ModuleNotFoundError",
     "evalue": "No module named 'areallyourpetsnamederic'",
     "output_type": "error",
     "traceback": [
      "\u001b[1;31m---------------------------------------------------------------------------\u001b[0m",
      "\u001b[1;31mModuleNotFoundError\u001b[0m                       Traceback (most recent call last)",
      "Input \u001b[1;32mIn [4]\u001b[0m, in \u001b[0;36m<cell line: 1>\u001b[1;34m()\u001b[0m\n\u001b[1;32m----> 1\u001b[0m \u001b[38;5;28;01mimport\u001b[39;00m \u001b[38;5;21;01mareallyourpetsnamederic\u001b[39;00m\n",
      "\u001b[1;31mModuleNotFoundError\u001b[0m: No module named 'areallyourpetsnamederic'"
     ]
    }
   ],
   "source": [
    "import areallyourpetsnamederic"
   ]
  },
  {
   "cell_type": "markdown",
   "id": "3a466806",
   "metadata": {},
   "source": [
    "areallyourpetsnamederic is not python module and here , import function is trying to import  module named areallyourpetsnamederic."
   ]
  },
  {
   "cell_type": "markdown",
   "id": "26a39297",
   "metadata": {},
   "source": [
    "<b>12. If you had a bacon() feature in a spam module, what would you call it after importing spam?</b>"
   ]
  },
  {
   "cell_type": "markdown",
   "id": "d832afe4",
   "metadata": {},
   "source": [
    "The I had the feature it can be called using   \n",
    "import spam   \n",
    "spam.bacon()"
   ]
  },
  {
   "cell_type": "markdown",
   "id": "fdfd078e",
   "metadata": {},
   "source": [
    "<b> 13. What can you do to save a programme from crashing if it encounters an error?</b>"
   ]
  },
  {
   "cell_type": "markdown",
   "id": "60aa4490",
   "metadata": {},
   "source": [
    "We can save a programme from crashing if it encounters an error by using  try and except clause that's how w`e know which is causing problem in code."
   ]
  },
  {
   "cell_type": "markdown",
   "id": "0bccdf69",
   "metadata": {},
   "source": [
    "<b> 14. What is the purpose of the try clause? What is the purpose of the except clause?</b>"
   ]
  },
  {
   "cell_type": "markdown",
   "id": "645fc22a",
   "metadata": {},
   "source": [
    "The code that causes error goes to try clause and the code that gets executed after the errror goes to except clause."
   ]
  },
  {
   "cell_type": "code",
   "execution_count": null,
   "id": "03d056dc",
   "metadata": {},
   "outputs": [],
   "source": []
  }
 ],
 "metadata": {
  "kernelspec": {
   "display_name": "Python 3 (ipykernel)",
   "language": "python",
   "name": "python3"
  },
  "language_info": {
   "codemirror_mode": {
    "name": "ipython",
    "version": 3
   },
   "file_extension": ".py",
   "mimetype": "text/x-python",
   "name": "python",
   "nbconvert_exporter": "python",
   "pygments_lexer": "ipython3",
   "version": "3.9.12"
  }
 },
 "nbformat": 4,
 "nbformat_minor": 5
}
